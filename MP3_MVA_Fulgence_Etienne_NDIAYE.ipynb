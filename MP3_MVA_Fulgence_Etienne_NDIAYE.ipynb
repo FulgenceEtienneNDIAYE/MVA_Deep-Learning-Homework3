{
 "cells": [
  {
   "cell_type": "markdown",
   "metadata": {},
   "source": [
    "**You may need to install [OpenCV](https://pypi.python.org/pypi/opencv-python) and [scikit-video](http://www.scikit-video.org/stable/).**"
   ]
  },
  {
   "cell_type": "code",
   "execution_count": 1,
   "metadata": {},
   "outputs": [
    {
     "name": "stderr",
     "output_type": "stream",
     "text": [
      "Using TensorFlow backend.\n"
     ]
    }
   ],
   "source": [
    "import keras\n",
    "import numpy as np\n",
    "import io\n",
    "import base64\n",
    "from IPython.display import HTML\n",
    "import skvideo.io\n",
    "import cv2\n",
    "import json\n",
    "\n",
    "from keras.models import Sequential,model_from_json\n",
    "from keras.layers.core import Dense\n",
    "from keras.optimizers import sgd\n",
    "from keras.layers import Conv2D, MaxPooling2D, Activation, AveragePooling2D,Reshape,BatchNormalization, Flatten"
   ]
  },
  {
   "cell_type": "markdown",
   "metadata": {},
   "source": [
    "# MiniProject #3: Deep Reinforcement Learning"
   ]
  },
  {
   "cell_type": "markdown",
   "metadata": {},
   "source": [
    "__Notations__: $E_p$ is the expectation under probability $p$. Please justify each of your answer and widely comment your code."
   ]
  },
  {
   "cell_type": "markdown",
   "metadata": {},
   "source": [
    "# Context"
   ]
  },
  {
   "cell_type": "markdown",
   "metadata": {},
   "source": [
    "In a reinforcement learning algorithm, we modelize each step $t$ as an action $a_t$ obtained from a state $s_t$, i.e. $\\{(a_{t},s_{t})_{t\\leq T}\\}$ having the Markov property. We consider a discount factor $\\gamma \\in [0,1]$ that ensures convergence. The goal is to find among all the policies $\\pi$, one that maximizes the expected reward:\n",
    "\n",
    "\\begin{equation*}\n",
    "R(\\pi)=\\sum_{t\\leq T}E_{p^{\\pi}}[\\gamma^t r(s_{t},a_{t})] \\> ,\n",
    "\\end{equation*}\n",
    "\n",
    "where: \n",
    "\\begin{equation*}p^{\\pi}(a_{0},a_{1},s_{1},...,a_{T},s_{T})=p(a_{0})\\prod_{t=1}^{T}\\pi(a_{t}|s_{t})p(s_{t+1}|s_{t},a_{t}) \\> .\n",
    "\\end{equation*}\n",
    "\n",
    "We note the $Q$-function:\n",
    "\n",
    "\\begin{equation*}Q^\\pi(s,a)=E_{p^{\\pi}}[\\sum_{t\\leq T}\\gamma^{t}r(s_{t},a_{t})|s_{0}=s,a_{0}=a] \\> .\n",
    "\\end{equation*}\n",
    "\n",
    "Thus, the optimal Q function is:\n",
    "\\begin{equation*}\n",
    "Q^*(s,a)=\\max_{\\pi}Q^\\pi(s,a) \\> .\n",
    "\\end{equation*}\n",
    "\n",
    "In this project, we will apply the deep reinforcement learning techniques to a simple game: an agent will have to learn from scratch a policy that will permit it maximizing a reward."
   ]
  },
  {
   "cell_type": "markdown",
   "metadata": {},
   "source": [
    "## The environment, the agent and the game"
   ]
  },
  {
   "cell_type": "markdown",
   "metadata": {},
   "source": [
    "### The environment"
   ]
  },
  {
   "cell_type": "markdown",
   "metadata": {},
   "source": [
    "```Environment``` is an abstract class that represents the states, rewards, and actions to obtain the new state."
   ]
  },
  {
   "cell_type": "code",
   "execution_count": 2,
   "metadata": {},
   "outputs": [],
   "source": [
    "class Environment(object):\n",
    "    def __init__(self):\n",
    "        pass\n",
    "\n",
    "    def act(self, act):\n",
    "        \"\"\"\n",
    "        One can act on the environment and obtain its reaction:\n",
    "        - the new state\n",
    "        - the reward of the new state\n",
    "        - should we continue the game?\n",
    "\n",
    "        :return: state, reward, game_over\n",
    "        \"\"\"\n",
    "        pass\n",
    "\n",
    "\n",
    "    def reset(self):\n",
    "        \"\"\"\n",
    "        Reinitialize the environment to a random state and returns\n",
    "        the original state\n",
    "\n",
    "        :return: state\n",
    "        \"\"\"\n",
    "        pass\n",
    "    \n",
    "    def draw(self):\n",
    "        \"\"\"\n",
    "        Visualize in the console or graphically the current state\n",
    "        \"\"\"\n",
    "        pass"
   ]
  },
  {
   "cell_type": "markdown",
   "metadata": {},
   "source": [
    "The method ```act``` allows to act on the environment at a given state $s_t$ (stored internally), via action $a_t$. The method will return the new state $s_{t+1}$, the reward $r(s_{t},a_{t})$ and determines if $t\\leq T$ (*game_over*).\n",
    "\n",
    "The method ```reset``` simply reinitializes the environment to a random state $s_0$.\n",
    "\n",
    "The method ```draw``` displays the current state $s_t$ (this is useful to check the behavior of the Agent).\n",
    "\n",
    "We modelize $s_t$ as a tensor, while $a_t$ is an integer."
   ]
  },
  {
   "cell_type": "markdown",
   "metadata": {},
   "source": [
    "### The Agent"
   ]
  },
  {
   "cell_type": "markdown",
   "metadata": {},
   "source": [
    "The goal of the ```Agent``` is to interact with the ```Environment``` by proposing actions $a_t$ obtained from a given state $s_t$ to attempt to maximize its __reward__ $r(s_t,a_t)$. We propose the following abstract class:"
   ]
  },
  {
   "cell_type": "code",
   "execution_count": 3,
   "metadata": {},
   "outputs": [],
   "source": [
    "class Agent(object):\n",
    "    def __init__(self, epsilon=0.1, n_action=4):\n",
    "        self.epsilon = epsilon\n",
    "        self.n_action = n_action\n",
    "    \n",
    "    def set_epsilon(self,e):\n",
    "        self.epsilon = e\n",
    "\n",
    "    def act(self,s,train=True):\n",
    "        \"\"\" This function should return the next action to do:\n",
    "        an integer between 0 and 4 (not included) with a random exploration of epsilon\"\"\"\n",
    "        if train:\n",
    "            if np.random.rand() <= self.epsilon:\n",
    "                a = np.random.randint(0, self.n_action, size=1)[0]\n",
    "            else:\n",
    "                a = self.learned_act(s)\n",
    "        else: # in some cases, this can improve the performance.. remove it if poor performances\n",
    "            a = self.learned_act(s)\n",
    "\n",
    "        return a\n",
    "\n",
    "    def learned_act(self,s):\n",
    "        \"\"\" Act via the policy of the agent, from a given state s\n",
    "        it proposes an action a\"\"\"\n",
    "        pass\n",
    "\n",
    "    def reinforce(self, s, n_s, a, r, game_over_):\n",
    "        \"\"\" This function is the core of the learning algorithm. \n",
    "        It takes as an input the current state s_, the next state n_s_\n",
    "        the action a_ used to move from s_ to n_s_ and the reward r_.\n",
    "        \n",
    "        Its goal is to learn a policy.\n",
    "        \"\"\"\n",
    "        pass\n",
    "\n",
    "    def save(self):\n",
    "        \"\"\" This function returns basic stats if applicable: the\n",
    "        loss and/or the model\"\"\"\n",
    "        pass\n",
    "\n",
    "    def load(self):\n",
    "        \"\"\" This function allows to restore a model\"\"\"\n",
    "        pass"
   ]
  },
  {
   "cell_type": "markdown",
   "metadata": {},
   "source": [
    "***\n",
    "__Question 1__:\n",
    "Explain the function act. Why is ```epsilon``` essential?"
   ]
  },
  {
   "cell_type": "markdown",
   "metadata": {},
   "source": [
    "**Act**:\n",
    "Cette fonction retourne l'action qui doit être executée par l'agent pour pouvoir avancer dans le jeu. Ainsi, il est amené à faire action similaire similaire avec le modèle d'apprentissage avec une probabilité 1-epsilon ou une équation qui revet totalement de l'aléat avec cette fois-ci une probabilité epsilon.\n",
    "\n",
    "\n",
    "**Epsilon**:\n",
    "Cette fonction est essentielle pour permettre à l'agent d'explorer l'envirennement de la façon la plus performante et de faire de mieux en mieux des actions plus rentables au fur et à mesure qu'il avance dans le jeu. Si epsilon=0, l'agent va répeter toujours ce qu'il a appris et par conséquence il va rater des opportunités pour maximiser son reward."
   ]
  },
  {
   "cell_type": "markdown",
   "metadata": {},
   "source": [
    "***\n",
    "### The Game"
   ]
  },
  {
   "cell_type": "markdown",
   "metadata": {},
   "source": [
    "The ```Agent``` and the ```Environment``` work in an interlaced way as in the following (take some time to understand this code as it is the core of the project)\n",
    "\n",
    "```python\n",
    "\n",
    "epoch = 300\n",
    "env = Environment()\n",
    "agent = Agent()\n",
    "\n",
    "\n",
    "# Number of won games\n",
    "score = 0\n",
    "loss = 0\n",
    "\n",
    "\n",
    "for e in range(epoch):\n",
    "    # At each epoch, we restart to a fresh game and get the initial state\n",
    "    state = env.reset()\n",
    "    # This assumes that the games will end\n",
    "    game_over = False\n",
    "\n",
    "    win = 0\n",
    "    lose = 0\n",
    "    \n",
    "    while not game_over:\n",
    "        # The agent performs an action\n",
    "        action = agent.act(state)\n",
    "\n",
    "        # Apply an action to the environment, get the next state, the reward\n",
    "        # and if the games end\n",
    "        prev_state = state\n",
    "        state, reward, game_over = env.act(action)\n",
    "\n",
    "        # Update the counters\n",
    "        if reward > 0:\n",
    "            win = win + reward\n",
    "        if reward < 0:\n",
    "            lose = lose -reward\n",
    "\n",
    "        # Apply the reinforcement strategy\n",
    "        loss = agent.reinforce(prev_state, state,  action, reward, game_over)\n",
    "\n",
    "    # Save as a mp4\n",
    "    if e % 10 == 0:\n",
    "        env.draw(e)\n",
    "\n",
    "    # Update stats\n",
    "    score += win-lose\n",
    "\n",
    "    print(\"Epoch {:03d}/{:03d} | Loss {:.4f} | Win/lose count {}/{} ({})\"\n",
    "          .format(e, epoch, loss, win, lose, win-lose))\n",
    "    agent.save()\n",
    "```"
   ]
  },
  {
   "cell_type": "markdown",
   "metadata": {},
   "source": [
    "# The game, *eat cheese*"
   ]
  },
  {
   "cell_type": "markdown",
   "metadata": {},
   "source": [
    "A rat runs on an island and tries to eat as much as possible. The island is subdivided into $N\\times N$ cells, in which there are cheese (+0.5) and poisonous cells (-1). The rat has a visibility of 2 cells (thus it can see $5^2$ cells). The rat is given a time $T$ to accumulate as much food as possible. It can perform 4 actions: going up, down, left, right. \n",
    "\n",
    "The goal is to code an agent to solve this task that will learn by trial and error. We propose the following environment:"
   ]
  },
  {
   "cell_type": "code",
   "execution_count": 4,
   "metadata": {},
   "outputs": [],
   "source": [
    "class Environment(object):\n",
    "    def __init__(self, grid_size=10, max_time=500, temperature=0.1):\n",
    "        grid_size = grid_size+4\n",
    "        self.grid_size = grid_size\n",
    "        self.max_time = max_time\n",
    "        self.temperature = temperature\n",
    "\n",
    "        #board on which one plays\n",
    "        self.board = np.zeros((grid_size,grid_size))\n",
    "        self.position = np.zeros((grid_size,grid_size))\n",
    "\n",
    "        # coordinate of the cat\n",
    "        self.x = 0\n",
    "        self.y = 1\n",
    "\n",
    "        # self time\n",
    "        self.t = 0\n",
    "\n",
    "        self.scale=16\n",
    "\n",
    "        self.to_draw = np.zeros((max_time+2, grid_size*self.scale, grid_size*self.scale, 3))\n",
    "\n",
    "\n",
    "    def draw(self,e):\n",
    "        skvideo.io.vwrite(str(e) + '.mp4', self.to_draw)\n",
    "\n",
    "    def get_frame(self,t):\n",
    "        b = np.zeros((self.grid_size,self.grid_size,3))+128\n",
    "        b[self.board>0,0] = 256\n",
    "        b[self.board < 0, 2] = 256\n",
    "        b[self.x,self.y,:]=256\n",
    "        b[-2:,:,:]=0\n",
    "        b[:,-2:,:]=0\n",
    "        b[:2,:,:]=0\n",
    "        b[:,:2,:]=0\n",
    "        \n",
    "        b =  cv2.resize(b, None, fx=self.scale, fy=self.scale, interpolation=cv2.INTER_NEAREST)\n",
    "\n",
    "        self.to_draw[t,:,:,:]=b\n",
    "\n",
    "\n",
    "    def act(self, action):\n",
    "        \"\"\"This function returns the new state, reward and decides if the\n",
    "        game ends.\"\"\"\n",
    "\n",
    "        self.get_frame(int(self.t))\n",
    "\n",
    "        self.position = np.zeros((self.grid_size, self.grid_size))\n",
    "\n",
    "        self.position[0:2,:]= -1\n",
    "        self.position[:,0:2] = -1\n",
    "        self.position[-2:, :] = -1\n",
    "        self.position[-2:, :] = -1\n",
    "\n",
    "        self.position[self.x, self.y] = 1\n",
    "        if action == 0:\n",
    "            if self.x == self.grid_size-3:\n",
    "                self.x = self.x-1\n",
    "            else:\n",
    "                self.x = self.x + 1\n",
    "        elif action == 1:\n",
    "            if self.x == 2:\n",
    "                self.x = self.x+1\n",
    "            else:\n",
    "                self.x = self.x-1\n",
    "        elif action == 2:\n",
    "            if self.y == self.grid_size - 3:\n",
    "                self.y = self.y - 1\n",
    "            else:\n",
    "                self.y = self.y + 1\n",
    "        elif action == 3:\n",
    "            if self.y == 2:\n",
    "                self.y = self.y + 1\n",
    "            else:\n",
    "                self.y = self.y - 1\n",
    "        else:\n",
    "            RuntimeError('Error: action not recognized')\n",
    "\n",
    "        self.t = self.t + 1\n",
    "        reward = self.board[self.x, self.y]\n",
    "        self.board[self.x, self.y] = 0\n",
    "        game_over = self.t > self.max_time\n",
    "        state = np.concatenate((self.board.reshape(self.grid_size, self.grid_size,1),\n",
    "                        self.position.reshape(self.grid_size, self.grid_size,1)),axis=2)\n",
    "        state = state[self.x-2:self.x+3,self.y-2:self.y+3,:]\n",
    "\n",
    "        return state, reward, game_over\n",
    "\n",
    "    def reset(self):\n",
    "        \"\"\"This function resets the game and returns the initial state\"\"\"\n",
    "\n",
    "        self.x = np.random.randint(3, self.grid_size-3, size=1)[0]\n",
    "        self.y = np.random.randint(3, self.grid_size-3, size=1)[0]\n",
    "\n",
    "\n",
    "        bonus = 0.5*np.random.binomial(1,self.temperature,size=self.grid_size**2)\n",
    "        bonus = bonus.reshape(self.grid_size,self.grid_size)\n",
    "\n",
    "        malus = -1.0*np.random.binomial(1,self.temperature,size=self.grid_size**2)\n",
    "        malus = malus.reshape(self.grid_size, self.grid_size)\n",
    "\n",
    "        self.to_draw = np.zeros((self.max_time+2, self.grid_size*self.scale, self.grid_size*self.scale, 3))\n",
    "\n",
    "\n",
    "        malus[bonus>0]=0\n",
    "\n",
    "        self.board = bonus + malus\n",
    "\n",
    "        self.position = np.zeros((self.grid_size, self.grid_size))\n",
    "        self.position[0:2,:]= -1\n",
    "        self.position[:,0:2] = -1\n",
    "        self.position[-2:, :] = -1\n",
    "        self.position[-2:, :] = -1\n",
    "        self.board[self.x,self.y] = 0\n",
    "        self.t = 0\n",
    "\n",
    "        state = np.concatenate((\n",
    "                               self.board.reshape(self.grid_size, self.grid_size,1),\n",
    "                        self.position.reshape(self.grid_size, self.grid_size,1)),axis=2)\n",
    "\n",
    "        state = state[self.x - 2:self.x + 3, self.y - 2:self.y + 3, :]\n",
    "        return state"
   ]
  },
  {
   "cell_type": "markdown",
   "metadata": {},
   "source": [
    "The following elements are important because they correspond to the hyper parameters for this project:"
   ]
  },
  {
   "cell_type": "code",
   "execution_count": 5,
   "metadata": {},
   "outputs": [],
   "source": [
    "# parameters\n",
    "size = 13\n",
    "T=200\n",
    "temperature=0.3\n",
    "epochs_train=30 # set small when debugging\n",
    "epochs_test=10 # set small when debugging\n",
    "\n",
    "# display videos\n",
    "def display_videos(name):\n",
    "    video = io.open(name, 'r+b').read()\n",
    "    encoded = base64.b64encode(video)\n",
    "    return '''<video alt=\"test\" controls>\n",
    "                <source src=\"data:video/mp4;base64,{0}\" type=\"video/mp4\" />\n",
    "             </video>'''.format(encoded.decode('ascii'))"
   ]
  },
  {
   "cell_type": "markdown",
   "metadata": {},
   "source": [
    "__Question 2__ Explain the use of the arrays ```position``` and ```board```."
   ]
  },
  {
   "cell_type": "markdown",
   "metadata": {},
   "source": [
    "L'array **position** est une matrice  carrée rempliede zéros sauf la positon du rat qui est remplie de 1. Une position est modélisée  par l'élément (i,j) de la matrice. Cette position correspond à la ligne et la colonne j.\n",
    "\n",
    "L'array **board** représente l'environement et donne l'emplacement des fromages. C'est une matrice de zeros avec 0.5 dans les corddonnées du fromage mangeable et -1 dans les coordonnées du fromage empoisoné."
   ]
  },
  {
   "cell_type": "markdown",
   "metadata": {},
   "source": [
    "## Random Agent"
   ]
  },
  {
   "cell_type": "markdown",
   "metadata": {},
   "source": [
    "***\n",
    "__Question 3__ Implement a random Agent (only ```learned_act``` needs to be implemented):"
   ]
  },
  {
   "cell_type": "code",
   "execution_count": 6,
   "metadata": {},
   "outputs": [],
   "source": [
    "class RandomAgent(Agent):\n",
    "    def __init__(self):\n",
    "        super(RandomAgent, self).__init__()\n",
    "        pass\n",
    "\n",
    "    def learned_act(self, s):\n",
    "        return np.random.choice(4)"
   ]
  },
  {
   "cell_type": "markdown",
   "metadata": {},
   "source": [
    "***\n",
    "***\n",
    "__Question 4__ Visualize the game moves. You need to fill in the following function for the evaluation:"
   ]
  },
  {
   "cell_type": "code",
   "execution_count": 7,
   "metadata": {},
   "outputs": [],
   "source": [
    "def test(agent,env,epochs,prefix=''):\n",
    "    # Number of won games\n",
    "    score = 0\n",
    "     \n",
    "    for e in range(epochs):\n",
    "    # At each epoch, we restart to a fresh game and get the initial state\n",
    "        state = env.reset()\n",
    "    # This assumes that the games will end\n",
    "        game_over = False\n",
    "\n",
    "        win = 0\n",
    "        lose = 0\n",
    "    \n",
    "        while not game_over:\n",
    "            # The agent performs an action\n",
    "            action = agent.act(state)\n",
    "\n",
    "            # Apply an action to the environment, get the next state, the reward\n",
    "            # and if the games end\n",
    "            prev_state = state\n",
    "            state, reward, game_over = env.act(action)\n",
    "\n",
    "            # Update the counters\n",
    "            if reward > 0:\n",
    "                win = win + reward\n",
    "            if reward < 0:\n",
    "                lose = lose -reward\n",
    "        \n",
    "        # Save as a mp4\n",
    "        env.draw(prefix+str(e))\n",
    "\n",
    "        # Update stats\n",
    "        score = score + win-lose\n",
    "\n",
    "        print(\"Win/lose count {}/{}. Average score ({})\"\n",
    "              .format(win, lose, score/(1+e)))\n",
    "    print('Final score: '+str(score/epochs))"
   ]
  },
  {
   "cell_type": "code",
   "execution_count": 8,
   "metadata": {},
   "outputs": [
    {
     "name": "stdout",
     "output_type": "stream",
     "text": [
      "Win/lose count 13.0/13.0. Average score (0.0)\n",
      "Win/lose count 10.5/19.0. Average score (-4.25)\n",
      "Win/lose count 9.0/13.0. Average score (-4.166666666666667)\n",
      "Win/lose count 13.5/15.0. Average score (-3.5)\n",
      "Win/lose count 9.5/10.0. Average score (-2.9)\n",
      "Win/lose count 7.5/9.0. Average score (-2.6666666666666665)\n",
      "Win/lose count 10.0/15.0. Average score (-3.0)\n",
      "Win/lose count 10.5/16.0. Average score (-3.3125)\n",
      "Win/lose count 12.0/17.0. Average score (-3.5)\n",
      "Win/lose count 8.0/21.0. Average score (-4.45)\n",
      "Final score: -4.45\n"
     ]
    },
    {
     "data": {
      "text/html": [
       "<video alt=\"test\" controls>\n",
       "                <source src=\"data:video/mp4;base64,AAAAIGZ0eXBpc29tAAACAGlzb21pc28yYXZjMW1wNDEAAAAIZnJlZQAAGIdtZGF0AAACrQYF//+p3EXpvebZSLeWLNgg2SPu73gyNjQgLSBjb3JlIDE1NyByMjkzNSA1NDVkZTJmIC0gSC4yNjQvTVBFRy00IEFWQyBjb2RlYyAtIENvcHlsZWZ0IDIwMDMtMjAxOCAtIGh0dHA6Ly93d3cudmlkZW9sYW4ub3JnL3gyNjQuaHRtbCAtIG9wdGlvbnM6IGNhYmFjPTEgcmVmPTMgZGVibG9jaz0xOjA6MCBhbmFseXNlPTB4MToweDExMSBtZT1oZXggc3VibWU9NyBwc3k9MSBwc3lfcmQ9MS4wMDowLjAwIG1peGVkX3JlZj0xIG1lX3JhbmdlPTE2IGNocm9tYV9tZT0xIHRyZWxsaXM9MSA4eDhkY3Q9MCBjcW09MCBkZWFkem9uZT0yMSwxMSBmYXN0X3Bza2lwPTEgY2hyb21hX3FwX29mZnNldD00IHRocmVhZHM9NiBsb29rYWhlYWRfdGhyZWFkcz0xIHNsaWNlZF90aHJlYWRzPTAgbnI9MCBkZWNpbWF0ZT0xIGludGVybGFjZWQ9MCBibHVyYXlfY29tcGF0PTAgY29uc3RyYWluZWRfaW50cmE9MCBiZnJhbWVzPTMgYl9weXJhbWlkPTIgYl9hZGFwdD0xIGJfYmlhcz0wIGRpcmVjdD0xIHdlaWdodGI9MSBvcGVuX2dvcD0wIHdlaWdodHA9MiBrZXlpbnQ9MjUwIGtleWludF9taW49MjUgc2NlbmVjdXQ9NDAgaW50cmFfcmVmcmVzaD0wIHJjX2xvb2thaGVhZD00MCByYz1jcmYgbWJ0cmVlPTEgY3JmPTIzLjAgcWNvbXA9MC42MCBxcG1pbj0wIHFwbWF4PTY5IHFwc3RlcD00IGlwX3JhdGlvPTEuNDAgYXE9MToxLjAwAIAAAALVZYiEADf//vaH+BTZWBP+Wb/9DX/cj9uPrP1xYyEE31qvIejAGS+1H+b/rFFs6Z6UB/fgCJQAc24ZwpHZJ3iTdjdQw/DAvgUuAor4FNJkZ+Ojr78GJLN/5CkKTOL7sEtNwF60vfICKKcykD5Qsfn8a1bhK2XiUz6lwdK+1ink70UtcVvRorw7YTHaXCDdb0EEDZM9sClIxR0BxccF8XqLKppDNds4RvoWpT5EdoaYLbpqKu1iSq1PUimH15KCIRU89DvmXFgFenvkXls/i0UDDOrUIzCbkzmbyIPOpa3CkzVawp2Aa1ojov2AB0ImBzey0aN6e63lEaIZrz+T7wgCrs/D7T3JZbNY8eOh8D/7nOrcfQxuySnsUflTMiIFQn3EFeF0cq1oCDUwqpITYCPoZBjxm596WAdn4cyDVM6QBtmVVx5+z6Ag/utJiXV0p8WHR7pDNZzQEbCR3K6K0AqPBcuxZDycqThpiZS2jjBn+6vRz5+DPR/XmanAxGvyi3psRBfgaVl2iAEAERhicpPl3jZg/GGHauxsAiWtDNH3VJvNYoHjHA8c8tVQtbL29ADwZJBW94Z8O8fjk++VQ/yc9wuSPIs/BkRGw0uCVVB74HKLr2ropfYLHnglESF+S3SpI9XwE/HeKNWLfyhnebG3jyjoRkKJSa0XY1UAPv3zjDD79hjPOvGPglqQKoCcCwPCNHV1CYElcV0D55nxD7wWDgDu4bI8SiPkqhCCfv7ir99KIOEzNN1VGgwgSPhZqgJRsW45VJprFk5wXYaa129rAh6yI43eNDuIACIRk3il8ERUihpGC+aWl0q2SsrfT4UY69ksyeIKQ3HNRVuGbcR7FiR5IMtVj+cm6pTdzDjC+JegxMM7HJGPgIlAkWM7HJIYlFB3jr6n1JnrGgyo9glEkYPQn1mCpTsnWOXdwgGu0lATZFZZlx3c/aoDUJuW7BxIeesAyYEAAAAaQZokbEN//qeEABRuBVMhIOJ/lslLafSHPVIAAAAPQZ5CeIX/AAxAfmZuHxTxAAAADgGeYXRCvwAQXcd55xevAAAAEAGeY2pCvwAP4EAnXgCgTYEAAAAZQZplSahBaJlMCG///qeEAAho+Y8jE/y4MQAAABlBmoZJ4QpSZTAh3/6plgAER+PP37INxWHhAAAAH0GaqknhDomUwId//qmWAALN8BAH9/YsB0QLcTYvOdEAAAAQQZ7IRRE8L/8AA0wjjOOT2wAAABABnud0Qr8ABHXak8r8lO/QAAAADwGe6WpCvwAC86icgZG1awAAABNBmu5JqEFomUwId//+qZYAAJWAAAAAEUGfDEURLC//AANM5EkdM+YfAAAAEAGfK3RCvwAEd9RInxZio9EAAAAQAZ8takK/AAR2WQw+gJB+2QAAABNBmzJJqEFsmUwId//+qZYAAJWBAAAADEGfUEUVLC//AACygAAAABABn290Qr8AAxDyb0u03AGAAAAAEAGfcWpCvwADEAsa4ykLgYEAAAATQZt2SahBbJlMCHf//qmWAACVgAAAAAxBn5RFFSwv/wAAsoAAAAAQAZ+zdEK/AAMQ8m9LtNwBgQAAAA8Bn7VqQr8AAvOonIGRtWsAAAAdQZu5SahBbJlMCHf//qmWAAHdHT8RSTLm1V3GP3MAAAARQZ/XRRUsK/8AAxDq2CQlcSsAAAAOAZ/4akK/AAMQ6+K4GCwAAAApQZv8SahBbJlMCHf//qmWAAMZ7DfMssYVV4FM1xU8CiT1/3nm03hnLSEAAAASQZ4aRRUsK/8ABPrIb/YbzszOAAAADwGeO2pCvwAE+sI8mB6+rwAAABlBmiBJqEFsmUwId//+qZYABOfkdBDP5MUhAAAAFkGeXkUVLC//AAXRNnJm3Df1t1gSUhgAAAAPAZ59dEK/AAfGMPKGgZwnAAAADwGef2pCvwAHxB/VIoEsJwAAAClBmmRJqEFsmUwIb//+p4QADo+y+r4FNfUK/ApUtn4FM7Aw1Y3y8g8xsAAAABJBnoJFFSwv/wAIrn7n93gx+n0AAAAPAZ6hdEK/AAfGMPKGgZwnAAAAEAGeo2pCvwAL87cJuM+vVXkAAAAfQZqnSahBbJlMCG///qeEABbPj9Anf88grSCJh1hJwQAAABJBnsVFFSwr/wASXp13mMHaspUAAAAPAZ7makK/ABJZZDEaVJShAAAAG0Ga6EmoQWyZTAh3//6plgALt8gzQB9gP+7mwAAAABlBmwxJ4QpSZTAhv/6nhAAXQFB3Wkwf3oCAAAAAEEGfKkU0TC//AA3Qjd7gY0EAAAAQAZ9JdEK/ABLXVoyS3+vngAAAAA8Bn0tqQr8AElta7vu+IsAAAAAaQZtPSahBaJlMCG///qeEABavRP9VvmPxScEAAAARQZ9tRREsK/8AEl2d/0ckVm0AAAAOAZ+OakK/ABJdnrmvWbUAAAAcQZuQSahBbJlMCG///qeEACKoAs220BgH9/EwIAAAAB9Bm7RJ4QpSZTAhv/6nhAA2PsH+e+ebSbo/WqZCRyQIAAAAEkGf0kU0TC//AB+/4rhHgZG+kQAAAA8Bn/F0Qr8ALF0A6E5L7WAAAAAQAZ/zakK/AB0FcGuPFW1IYAAAABlBm/ZJqEFomUwU8M/+nhAAhqRfkdff0xVhAAAAEAGeFWpCvwAc/nDXvNKzpcAAAAAZQZoXSeEKUmUwIb/+p4QANfSJ/qt8x+I9IQAAABlBmjhJ4Q6JlMCG//6nhABT/RP9VvmPxFBBAAAAG0GaXEnhDyZTAhv//qeEAHwB4muNUS/RP8h7iAAAABBBnnpFETwv/wBLaA5eRRThAAAAEAGemXRCvwBprKu5DZUpD+AAAAAPAZ6bakK/AGcsWBdf395hAAAAG0GankmoQWiZTBTw3/6nhAB8vgMBzfzyoZd6BwAAABABnr1qQr8AaZm5rjxVtJVgAAAAGEGav0nhClJlMCG//qeEAFYxWkEIn+W3IwAAAB9BmsNJ4Q6JlMCG//6nhACCj5mptu445d+srDE/vh/hAAAAEEGe4UURPC//AE+Y23D2gbAAAAAQAZ8AdEK/AGwsq7kNlSkPMQAAAA8BnwJqQr8AbAFjYHKbl4AAAAAZQZsESahBaJlMCG///qeEAH99g9ezPgivBwAAABFBmyhJ4QpSZTAhv/6nhAABJwAAAAxBn0ZFNEwv/wAAsoEAAAAQAZ9ldEK/AGX1E57hIquggQAAABABn2dqQr8AaYFjX1QdPLm4AAAAGkGbaUmoQWiZTAhv//6nhADC0if6rfMfiEPAAAAAHUGbi0nhClJlMFESw3/+p4QAw/wG//zygNSDRDKhAAAAEAGfqmpCvwCj0o3mmKtpBMAAAAAZQZusSeEOiZTAh3/+qZYAQH48/fsg3FQF4AAAABFBm9BJ4Q8mUwIb//6nhAABJwAAABJBn+5FETwv/wBLfETsRY5sinEAAAAQAZ4NdEK/AGck0InxZijfmQAAABABng9qQr8AaZm5rjxVtJVgAAAAHEGaEkmoQWiZTBTw3/6nhACCj5mps24ze6nxbvQAAAAQAZ4xakK/AGwdU8mB69vAgQAAABZBmjZJ4QpSZTAhn/6eEAMevuNIOOWAAAAADkGeVEU0TC//AHl/b3UgAAAAEAGec3RCvwCodAOf2C3JAMEAAAAPAZ51akK/AGrzk3WerPV3AAAAG0Gad0moQWiZTAhn//6eEAMfIY5/DstlH4RDwQAAABdBmphJ4QpSZTAhv/6nhADM2k98MCNZqQAAABlBmrlJ4Q6JlMCG//6nhADI++zH+H1bbPWAAAAAGUGa2knhDyZTAh3//qmWAGM+FGVWZtmARsEAAAArQZr+SeEPJlMCG//+p4QCKeSK5zLK57x+BSpbPwKZ1+EGNUFkzrF1IzTFHwAAABZBnxxFETwv/wEOzzswMn65E9AYqg2PAAAAEAGfO3RCvwDnxmRHYsxRrekAAAAQAZ89akK/AXWwjyYHr2zegAAAABlBmyBJqEFomUwU8O/+qZYBF/Rz8PXZtwSsAAAADwGfX2pCvwF1bbpRpDxJqwAAABlBm0NJ4QpSZTAh3/6plgCUFHOtD1ffIUPAAAAAEkGfYUU0TCv/AO0zF7CwX5Z1wQAAAA4Bn4JqQr8A7TNY84IDrgAAABdBm4dJqEFomUwIb//+p4QBLfjp9ri2gQAAABJBn6VFESwv/wC1sgX3OsG/He0AAAAQAZ/EdEK/APK2BraZQ9HcQQAAABABn8ZqQr8A8nOGveaVm0HBAAAAEkGby0moQWyZTAhn//6eEAAEfAAAAAxBn+lFFSwv/wAAsoAAAAAQAZ4IdEK/AOqobunZdlTFgQAAAA8BngpqQr8A6qhuwz1Z6VMAAAAZQZoMSahBbJlMCGf//p4QCBOEc/Wn9+7D0gAAABhBmi1J4QpSZTAhv/6nhAIp6OaCtZkV6b0AAAAbQZpOSeEOiZTAhv/+p4QHsILNqyz9Anf58npBAAAAFUGacknhDyZTAhn//p4QH7zm+tYI2QAAABJBnpBFETwv/wHDH32bgSt2xrQAAAAQAZ6vdEK/Al7YGtpg4K+DgAAAABABnrFqQr8CSM9ulQ5IKw2ZAAAAGUGas0moQWiZTAhv//6nhAfvRz6x4Lc+AWcAAAAdQZrVSeEKUmUwURLDf/6nhAbpe1mLE2D+rB4kkpIAAAAQAZ70akK/AjLtqG4z688LuQAAABhBmvZJ4Q6JlMCG//6nhAcfRzQVrMYnxBwAAAAdQZsYSeEPJlMFFTw3//6nhAZXfZ8+a245hNE9Bl0AAAAPAZ83akK/Ah5LOVd/9/ILAAAAG0GbO0nhDyZTAhv//qeEAQ346e7zc7AyFOeoIAAAABJBn1lFETwr/wDckdudZPk2k4EAAAAOAZ96akK/ANzYhd71H+kAAAAZQZt+SahBaJlMCG///qeEALF7qcf4fVttGwAAABFBn5xFESwr/wCS5o3mhYPt7QAAAA4Bn71qQr8Aksoxk3JL2gAAAChBm6FJqEFsmUwIb//+p4QBsu3TzLK8YZ+BTLZ2fAoUlHx1pbQRo5YsAAAAEkGf30UVLCv/AUiyDeApH17jUwAAABABn+BqQr8BSLHjlf24fOBAAAAAHEGb5EmoQWyZTAhv//6nhAUvjT9oGy2JGhIA4+EAAAASQZ4CRRUsK/8B+dOu7pKUgKuAAAAADgGeI2pCvwH5K5MBhchtAAAAGkGaJUmoQWyZTAhv//6nhAD9+wf4Tgt0JFlBAAAAFkGaSUnhClJlMCG//qeEAKP7qftcqYEAAAATQZ5nRTRML/8AlviJ2IscH418wQAAABABnoZ0Qr8AzcmhE+LMUa+YAAAAEAGeiGpCvwDNkyTTfSQcU3AAAAAaQZqKSahBaJlMCG///qeEAPycZ/qt8x+IM+EAAAAbQZqrSeEKUmUwId/+qZYA2jkGZ/Kl0Dh/fKDgAAAAIEGaz0nhDomUwId//qmWAtKWYtM0XvCjzn7NlzU0qJtQAAAAFUGe7UURPC//AYfwjv59Fi1x4WCjLwAAABABnwx0Qr8B7ES7jsWYnwz5AAAADwGfDmpCvwILYR5Lme7pDwAAABxBmxNJqEFomUwIb//+p4QFs40/ayXhxZCkLiygAAAAEEGfMUURLC//AYeQV/ImMWAAAAAQAZ9QdEK/AgqdK+V+SmYYsQAAAA8Bn1JqQr8BWuUDyYIswIAAAAAcQZtXSahBbJlMCG///qeEAdvsH+RxeHFkKS4akAAAABBBn3VFFSwv/wD4J1G9gid1AAAADwGflHRCvwFjtHeecWjjgAAAABABn5ZqQr8BWm5DD6AkHEu5AAAAGkGbmEmoQWyZTAhv//6nhAEV+On1HGhIcGBBAAAAEUGbvEnhClJlMCG//qeEAAEnAAAAEkGf2kU0TC//AKzio3fp6fp6YQAAAA8Bn/l0Qr8A58YeUNAzUccAAAAQAZ/7akK/AOeC851oYXiLwQAAABxBm/5JqEFomUwU8N/+p4QAtfup+60szU26LWuJAAAAEAGeHWpCvwCW5o3mmKtpCsAAAAAZQZofSeEKUmUwIb/+p4QAeUHhTrOn3W3pgAAAAB1BmiFJ4Q6JlMFNEw3//qeEAMK6tUx/q3b7B+t+9QAAABABnkBqQr8An1jy3DZtTPWAAAAAGEGaREnhDyZTAhv//qeEAMP7B69mfBFdZQAAABFBnmJFETwr/wCj0o3mhYPtwQAAAA4BnoNqQr8Ao7Yxk3JLgwAAABlBmodJqEFomUwIb//+p4QAvvupx/h9W20DAAAAEkGepUURLCv/AJrKAIBTAOQZQQAAAA4BnsZqQr8AmwaVdTptqQAAABpBmshJqEFsmUwIb//+p4QAunup+o40JDhHwAAAABlBmulJ4QpSZTAh3/6plgA7/tLwtQT+wDmgAAAAEUGbDUnhDomUwIb//qeEAAEnAAAADEGfK0URPC//AACygAAAABABn0p0Qr8AXnOTvwAfbtXAAAAAEAGfTGpCvwCS2td1kMOSFYEAAAAXQZtPSahBaJlMFPDv/qmWADk+0v6tx8EAAAAPAZ9uakK/AF5zk3WerPWpAAAAHkGbc0nhClJlMCHf/qmWAD1ew3zLLPn2+7c71h/5gAAAABVBn5FFNEwv/wBufXLGbcTgKpHhRFAAAAAQAZ+wdEK/AJb5qgdO1DVpgQAAABABn7JqQr8Alsshh9ASDi1IAAAAHEGbtkmoQWiZTAh3//6plgA9XtLwtQT+SUvnbFgAAAASQZ/URREsK/8AZIj0QCmAciPBAAAAEAGf9WpCvwBiHbhNxn16cDgAAAAZQZv6SahBbJlMCG///qeEAHc9g/zyig70TQAAABBBnhhFFSwv/wBHc/c4WUW5AAAADwGeN3RCvwBiElEKYIupgAAAABABnjlqQr8AYgmSab6SDjSRAAAAGkGaO0moQWyZTAh3//6plgA9CZCTcOCj5pdwAAAAGkGaX0nhClJlMCG//qeEALmJyWbc146fatZxAAAAEEGefUU0TC//AG6EcZ3KEqEAAAAQAZ6cdEK/AJsIA52xxpoMoAAAAA8Bnp5qQr8AlwawLr+/lsAAAAAcQZqDSahBaJlMCG///qeEARQfNU1m3NeOn2rOqQAAABBBnqFFESwv/wCoUCK0ooA4AAAADgGewHRCvwCa7jvPOLT/AAAAEAGewmpCvwDiM+Y3Q5IOKLgAAAAdQZrFSahBbJlMFEwz//6eEAcDrl1scL74h/hob0EAAAAQAZ7kakK/AWNRomRNKzZdwQAAABxBmudJ4QpSZTBSwz/+nhAHG6+/nccTpGxT6lFBAAAAEAGfBmpCvwFaa+c60MLw58EAAAAbQZsJS+EIQ6JEYIKAfyAf2HgFEwr//jhAABFwAAAAJAGfKGpCvwKvY+1BxN2qw0km5aqGDIwaBSRhPU/sFlVWAAMHPwAAC+Btb292AAAAbG12aGQAAAAAAAAAAAAAAAAAAAPoAAAfkAABAAABAAAAAAAAAAAAAAAAAQAAAAAAAAAAAAAAAAAAAAEAAAAAAAAAAAAAAAAAAEAAAAAAAAAAAAAAAAAAAAAAAAAAAAAAAAAAAAAAAAACAAALCnRyYWsAAABcdGtoZAAAAAMAAAAAAAAAAAAAAAEAAAAAAAAfkAAAAAAAAAAAAAAAAAAAAAAAAQAAAAAAAAAAAAAAAAAAAAEAAAAAAAAAAAAAAAAAAEAAAAABEAAAARAAAAAAACRlZHRzAAAAHGVsc3QAAAAAAAAAAQAAH5AAAAQAAAEAAAAACoJtZGlhAAAAIG1kaGQAAAAAAAAAAAAAAAAAADIAAAGUAFXEAAAAAAAtaGRscgAAAAAAAAAAdmlkZQAAAAAAAAAAAAAAAFZpZGVvSGFuZGxlcgAAAAotbWluZgAAABR2bWhkAAAAAQAAAAAAAAAAAAAAJGRpbmYAAAAcZHJlZgAAAAAAAAABAAAADHVybCAAAAABAAAJ7XN0YmwAAACVc3RzZAAAAAAAAAABAAAAhWF2YzEAAAAAAAAAAQAAAAAAAAAAAAAAAAAAAAABEAEQAEgAAABIAAAAAAAAAAEAAAAAAAAAAAAAAAAAAAAAAAAAAAAAAAAAAAAAAAAAAAAY//8AAAAvYXZjQwH0AA3/4QAXZ/QADZGbKCIR0IAAAAMAgAAAGQeKFMsBAAVo6+PESAAAABhzdHRzAAAAAAAAAAEAAADKAAACAAAAABRzdHNzAAAAAAAAAAEAAAABAAAFuGN0dHMAAAAAAAAAtQAAAAEAAAQAAAAAAQAACgAAAAABAAAEAAAAAAEAAAAAAAAAAQAAAgAAAAACAAAEAAAAAAEAAAoAAAAAAQAABAAAAAABAAAAAAAAAAEAAAIAAAAAAQAACgAAAAABAAAEAAAAAAEAAAAAAAAAAQAAAgAAAAABAAAKAAAAAAEAAAQAAAAAAQAAAAAAAAABAAACAAAAAAEAAAoAAAAAAQAABAAAAAABAAAAAAAAAAEAAAIAAAAAAQAACAAAAAACAAACAAAAAAEAAAgAAAAAAgAAAgAAAAABAAAKAAAAAAEAAAQAAAAAAQAAAAAAAAABAAACAAAAAAEAAAoAAAAAAQAABAAAAAABAAAAAAAAAAEAAAIAAAAAAQAACAAAAAACAAACAAAAAAEAAAQAAAAAAQAACgAAAAABAAAEAAAAAAEAAAAAAAAAAQAAAgAAAAABAAAIAAAAAAIAAAIAAAAAAQAABAAAAAABAAAKAAAAAAEAAAQAAAAAAQAAAAAAAAABAAACAAAAAAEAAAYAAAAAAQAAAgAAAAACAAAEAAAAAAEAAAoAAAAAAQAABAAAAAABAAAAAAAAAAEAAAIAAAAAAQAABgAAAAABAAACAAAAAAEAAAQAAAAAAQAACgAAAAABAAAEAAAAAAEAAAAAAAAAAQAAAgAAAAABAAAEAAAAAAEAAAoAAAAAAQAABAAAAAABAAAAAAAAAAEAAAIAAAAAAQAABAAAAAABAAAGAAAAAAEAAAIAAAAAAQAABAAAAAABAAAKAAAAAAEAAAQAAAAAAQAAAAAAAAABAAACAAAAAAEAAAYAAAAAAQAAAgAAAAABAAAKAAAAAAEAAAQAAAAAAQAAAAAAAAABAAACAAAAAAQAAAQAAAAAAQAACgAAAAABAAAEAAAAAAEAAAAAAAAAAQAAAgAAAAABAAAGAAAAAAEAAAIAAAAAAQAACAAAAAACAAACAAAAAAEAAAoAAAAAAQAABAAAAAABAAAAAAAAAAEAAAIAAAAAAQAACgAAAAABAAAEAAAAAAEAAAAAAAAAAQAAAgAAAAADAAAEAAAAAAEAAAoAAAAAAQAABAAAAAABAAAAAAAAAAEAAAIAAAAAAQAABAAAAAABAAAGAAAAAAEAAAIAAAAAAQAABAAAAAABAAAGAAAAAAEAAAIAAAAAAQAACAAAAAACAAACAAAAAAEAAAgAAAAAAgAAAgAAAAABAAAIAAAAAAIAAAIAAAAAAQAACAAAAAACAAACAAAAAAEAAAQAAAAAAQAACgAAAAABAAAEAAAAAAEAAAAAAAAAAQAAAgAAAAACAAAEAAAAAAEAAAoAAAAAAQAABAAAAAABAAAAAAAAAAEAAAIAAAAAAQAACgAAAAABAAAEAAAAAAEAAAAAAAAAAQAAAgAAAAABAAAKAAAAAAEAAAQAAAAAAQAAAAAAAAABAAACAAAAAAEAAAQAAAAAAQAACgAAAAABAAAEAAAAAAEAAAAAAAAAAQAAAgAAAAABAAAGAAAAAAEAAAIAAAAAAQAABAAAAAABAAAGAAAAAAEAAAIAAAAAAQAACAAAAAACAAACAAAAAAEAAAgAAAAAAgAAAgAAAAACAAAEAAAAAAEAAAoAAAAAAQAABAAAAAABAAAAAAAAAAEAAAIAAAAAAQAABgAAAAABAAACAAAAAAEAAAoAAAAAAQAABAAAAAABAAAAAAAAAAEAAAIAAAAAAQAACAAAAAACAAACAAAAAAEAAAoAAAAAAQAABAAAAAABAAAAAAAAAAEAAAIAAAAAAQAABAAAAAABAAAKAAAAAAEAAAQAAAAAAQAAAAAAAAABAAACAAAAAAEAAAoAAAAAAQAABAAAAAABAAAAAAAAAAEAAAIAAAAAAQAABgAAAAABAAACAAAAAAEAAAYAAAAAAQAAAgAAAAABAAAGAAAAAAEAAAIAAAAAHHN0c2MAAAAAAAAAAQAAAAEAAADKAAAAAQAAAzxzdHN6AAAAAAAAAAAAAADKAAAFigAAAB4AAAATAAAAEgAAABQAAAAdAAAAHQAAACMAAAAUAAAAFAAAABMAAAAXAAAAFQAAABQAAAAUAAAAFwAAABAAAAAUAAAAFAAAABcAAAAQAAAAFAAAABMAAAAhAAAAFQAAABIAAAAtAAAAFgAAABMAAAAdAAAAGgAAABMAAAATAAAALQAAABYAAAATAAAAFAAAACMAAAAWAAAAEwAAAB8AAAAdAAAAFAAAABQAAAATAAAAHgAAABUAAAASAAAAIAAAACMAAAAWAAAAEwAAABQAAAAdAAAAFAAAAB0AAAAdAAAAHwAAABQAAAAUAAAAEwAAAB8AAAAUAAAAHAAAACMAAAAUAAAAFAAAABMAAAAdAAAAFQAAABAAAAAUAAAAFAAAAB4AAAAhAAAAFAAAAB0AAAAVAAAAFgAAABQAAAAUAAAAIAAAABQAAAAaAAAAEgAAABQAAAATAAAAHwAAABsAAAAdAAAAHQAAAC8AAAAaAAAAFAAAABQAAAAdAAAAEwAAAB0AAAAWAAAAEgAAABsAAAAWAAAAFAAAABQAAAAWAAAAEAAAABQAAAATAAAAHQAAABwAAAAfAAAAGQAAABYAAAAUAAAAFAAAAB0AAAAhAAAAFAAAABwAAAAhAAAAEwAAAB8AAAAWAAAAEgAAAB0AAAAVAAAAEgAAACwAAAAWAAAAFAAAACAAAAAWAAAAEgAAAB4AAAAaAAAAFwAAABQAAAAUAAAAHgAAAB8AAAAkAAAAGQAAABQAAAATAAAAIAAAABQAAAAUAAAAEwAAACAAAAAUAAAAEwAAABQAAAAeAAAAFQAAABYAAAATAAAAFAAAACAAAAAUAAAAHQAAACEAAAAUAAAAHAAAABUAAAASAAAAHQAAABYAAAASAAAAHgAAAB0AAAAVAAAAEAAAABQAAAAUAAAAGwAAABMAAAAiAAAAGQAAABQAAAAUAAAAIAAAABYAAAAUAAAAHQAAABQAAAATAAAAFAAAAB4AAAAeAAAAFAAAABQAAAATAAAAIAAAABQAAAASAAAAFAAAACEAAAAUAAAAIAAAABQAAAAfAAAAKAAAABRzdGNvAAAAAAAAAAEAAAAwAAAAYnVkdGEAAABabWV0YQAAAAAAAAAhaGRscgAAAAAAAAAAbWRpcmFwcGwAAAAAAAAAAAAAAAAtaWxzdAAAACWpdG9vAAAAHWRhdGEAAAABAAAAAExhdmY1OC4yNi4xMDE=\" type=\"video/mp4\" />\n",
       "             </video>"
      ],
      "text/plain": [
       "<IPython.core.display.HTML object>"
      ]
     },
     "execution_count": 8,
     "metadata": {},
     "output_type": "execute_result"
    }
   ],
   "source": [
    "# Initialize the game\n",
    "env = Environment(grid_size=size, max_time=T,temperature=temperature)\n",
    "\n",
    "# Initialize the agent!\n",
    "agent = RandomAgent()\n",
    "\n",
    "test(agent,env,epochs_test,prefix='random')\n",
    "HTML(display_videos('random0.mp4'))"
   ]
  },
  {
   "cell_type": "markdown",
   "metadata": {},
   "source": [
    "***\n",
    "## DQN"
   ]
  },
  {
   "cell_type": "markdown",
   "metadata": {},
   "source": [
    "Let us assume here that $T=\\infty$.\n",
    "\n",
    "***\n",
    "__Question 5__ Let $\\pi$ be a policy, show that:\n",
    "\n",
    "\\begin{equation*}\n",
    "Q^{\\pi}(s,a)=E_{(s',a')\\sim p(.|s,a)}[r(s,a)+\\gamma Q^{\\pi}(s',a')]\n",
    "\\end{equation*}\n",
    "\n",
    "Then, show that for the optimal policy $\\pi^*$ (we assume its existence), the following holds: \n",
    "\n",
    "\\begin{equation*}\n",
    "Q^{*}(s,a)=E_{s'\\sim \\pi^*(.|s,a)}[r(s,a)+\\gamma\\max_{a'}Q^{*}(s',a')].\n",
    "\\end{equation*}\n",
    "Finally, deduce that a plausible objective is:\n",
    "\n",
    "\\begin{equation*}\n",
    "\\mathcal{L}(\\theta)=E_{s' \\sim \\pi^*(.|s,a)}\\Vert r+\\gamma\\max\\max_{a'}Q(s',a',\\theta)-Q(s,a,\\theta)\\Vert^{2}.\n",
    "\\end{equation*}\n",
    "\n",
    "\n"
   ]
  },
  {
   "cell_type": "markdown",
   "metadata": {},
   "source": [
    "**Réponses:**\n",
    "\n",
    "**1-** la fonction $Q^\\pi(s,a)$ est définit comme suit:\n",
    "\n",
    "$$ Q^\\pi(s,a)=E_{p^{\\pi}}[\\sum_{t}\\gamma^{t}r(s_{t},a_{t})|s_{0}=s,a_{0}=a] \\> $$\n",
    "\n",
    "Elle devient :\n",
    "\n",
    "$$ Q^\\pi(s,a)=E_{p^{\\pi}}[ r(s_{0},a_{0}) + \\sum_{t \\geq 1}\\gamma^{t}r(s_{t},a_{t})|s_{0}=s,a_{0}=a] \\> $$\n",
    "Par la suite:\n",
    "\n",
    "$$ Q^\\pi(s,a)=E_{p^{\\pi}}[ r(s,a) + \\gamma \\sum_{t \\geq 1}\\gamma^{t-1}r(s_{t},a_{t})|s_{0}=s,a_{0}=a] \\> $$\n",
    "\n",
    "Comme  $ (s_{t},a_{t}) = (s_{t}^\\prime,a_{t}^\\prime) $ et $ (s^\\prime,a^\\prime) = (s_1 , a_1)$, on obtient:\n",
    "\n",
    "$$ Q^\\pi(s,a)=E_{(s',a')\\sim p(.|s,a)}[ r(s,a) + E_{p^{\\pi}}[ \\gamma \\sum_{t}\\gamma^{t}r(s_{t}^\\prime,a_{t}^\\prime)|s_{0}^\\prime=s^\\prime,a_{0}^\\prime=a^\\prime] ] \\> $$\n",
    "\n",
    "Et en fin on a: \n",
    "\n",
    "$$ Q^{\\pi}(s,a)=E_{(s',a')\\sim p(.|s,a)}[r(s,a)+\\gamma Q^{\\pi}(s',a')] $$\n",
    "\n",
    "\n",
    "**2-** La relation entre la stratégie optimale et la fonction $Q^\\pi(s,a)$ est la suivante: \n",
    "\n",
    " $$    \\pi^*(s) = \\max_a Q^*(s,a)              \\                    (1) $$\n",
    "\n",
    "Par utilisation du résultat de la question 1, on obtient:\n",
    "\n",
    "$$ Q^{*}(s,a)=E_{(s',a')\\sim \\pi^* (.|s,a)}[r(s,a)+\\gamma Q^{\\pi^*}(s',\\pi^*(s'))] $$\n",
    "\n",
    "On remplace $ \\pi^*(s) $ par son expression en (1):\n",
    "\n",
    "\\begin{equation*}\n",
    "Q^{*}(s,a)=E_{s'\\sim \\pi^*(.|s,a)}[r(s,a)+\\gamma\\max_{a'}Q^{*}(s',a')].\n",
    "\\end{equation*}\n",
    "\n",
    "**3-** En vertu du résultat obtenu à la question 2:\n",
    "\n",
    "\\begin{equation*}\n",
    "E_{s' \\sim \\pi^*(.|s,a)}\\Vert r+\\gamma\\max\\max_{a'}Q^*(s',a',\\theta)-Q^*(s,a,\\theta)\\Vert^{2} = 0 \\text{ si Q = Q*  et c'est strictement positive dans le cas échéant}\n",
    "\\end{equation*}\n",
    "\n",
    "On obtient l'objectif suivant qu'il faut minimiser au cours du training du DQN:\n",
    "\n",
    "\\begin{equation*}\n",
    "\\mathcal{L}(\\theta)=E_{s' \\sim \\pi^*(.|s,a)}\\Vert r+\\gamma\\max\\max_{a'}Q(s',a',\\theta)-Q(s,a,\\theta)\\Vert^{2}.\n",
    "\\end{equation*}\n"
   ]
  },
  {
   "cell_type": "markdown",
   "metadata": {},
   "source": [
    "***\n",
    "The DQN-learning algorithm relies on these derivations to train the parameters $\\theta$ of a Deep Neural Network:\n",
    "\n",
    "1. At the state $s_t$, select the action $a_t$ with best reward using $Q_t$ and store the results;\n",
    "\n",
    "2. Obtain the new state $s_{t+1}$ from the environment $p$;\n",
    "\n",
    "3. Store $(s_t,a_t,s_{t+1})$;\n",
    "\n",
    "4. Obtain $Q_{t+1}$ by minimizing  $\\mathcal{L}$ from a recovered batch from the previously stored results.\n",
    "\n",
    "***\n",
    "__Question 6__ Implement the class ```Memory``` that stores moves (in a replay buffer) via ```remember``` and provides a ```random_access``` to these. Specify a maximum memory size to avoid side effects. You can for example use a ```list()``` and set by default ```max_memory=100```."
   ]
  },
  {
   "cell_type": "code",
   "execution_count": 11,
   "metadata": {},
   "outputs": [],
   "source": [
    "class Memory(object):\n",
    "    def __init__(self, max_memory=100):\n",
    "        self.max_memory = max_memory\n",
    "        self.memory = list()\n",
    "\n",
    "    def remember(self, m):\n",
    "        self.memory.append(m)\n",
    "        if len(self.memory)>self.max_memory:\n",
    "            del self.memory[0]\n",
    "\n",
    "    def random_access(self):\n",
    "        idx=np.random.choice(len(self.memory))\n",
    "        return self.memory[idx]\n",
    "        "
   ]
  },
  {
   "cell_type": "markdown",
   "metadata": {},
   "source": [
    "***\n",
    "The pipeline we will use for training is given below:"
   ]
  },
  {
   "cell_type": "code",
   "execution_count": 12,
   "metadata": {},
   "outputs": [],
   "source": [
    "def train(agent,env,epoch,prefix=''):\n",
    "    # Number of won games\n",
    "    score = 0\n",
    "    loss = 0\n",
    "\n",
    "    for e in range(epoch):\n",
    "        # At each epoch, we restart to a fresh game and get the initial state\n",
    "        state = env.reset()\n",
    "        # This assumes that the games will terminate\n",
    "        game_over = False\n",
    "\n",
    "        win = 0\n",
    "        lose = 0\n",
    "\n",
    "        while not game_over:\n",
    "            # The agent performs an action\n",
    "            action = agent.act(state)\n",
    "\n",
    "            # Apply an action to the environment, get the next state, the reward\n",
    "            # and if the games end\n",
    "            prev_state = state\n",
    "            state, reward, game_over = env.act(action)\n",
    "\n",
    "            # Update the counters\n",
    "            if reward > 0:\n",
    "                win = win + reward\n",
    "            if reward < 0:\n",
    "                lose = lose -reward\n",
    "\n",
    "            # Apply the reinforcement strategy\n",
    "            loss = agent.reinforce(prev_state, state,  action, reward, game_over)\n",
    "\n",
    "        # Save as a mp4\n",
    "        if e % 10 == 0:\n",
    "            env.draw(prefix+str(e))\n",
    "\n",
    "        # Update stats\n",
    "        score += win-lose\n",
    "\n",
    "        print(\"Epoch {:03d}/{:03d} | Loss {:.4f} | Win/lose count {}/{} ({})\"\n",
    "              .format(e, epoch, loss, win, lose, win-lose))\n",
    "        agent.save(name_weights=prefix+'model.h5',name_model=prefix+'model.json')"
   ]
  },
  {
   "cell_type": "markdown",
   "metadata": {},
   "source": [
    "***\n",
    "__Question 7__ Implement the DQN training algorithm using a cascade of fully connected layers. You can use different learning rate, batch size or memory size parameters. In particular, the loss might oscillate while the player will start to win the games. You have to find a good criterium."
   ]
  },
  {
   "cell_type": "code",
   "execution_count": 13,
   "metadata": {},
   "outputs": [],
   "source": [
    "class DQN(Agent):\n",
    "    def __init__(self, grid_size,  epsilon = 0.1, memory_size=100, batch_size = 16,n_state=2):\n",
    "        super(DQN, self).__init__(epsilon = epsilon)\n",
    "\n",
    "        # Discount for Q learning\n",
    "        self.discount = 0.99\n",
    "        \n",
    "        self.grid_size = grid_size\n",
    "        \n",
    "        # number of state\n",
    "        self.n_state = n_state\n",
    "\n",
    "        # Memory\n",
    "        self.memory = Memory(memory_size)\n",
    "        \n",
    "        # Batch size when learning\n",
    "        self.batch_size = batch_size\n",
    "\n",
    "    def learned_act(self, s):\n",
    "        pass\n",
    "\n",
    "    def reinforce(self, s_, n_s_, a_, r_, game_over_):\n",
    "        # Two steps: first memorize the states, second learn from the pool\n",
    "\n",
    "        self.memory.remember([s_, n_s_, a_, r_, game_over_])\n",
    "        \n",
    "        input_states = np.zeros((self.batch_size, 5,5,self.n_state))\n",
    "        target_q = np.zeros((self.batch_size, 4))\n",
    "        \n",
    "        for i in range(self.batch_size):\n",
    "            transit=self.memory.random_access()\n",
    "            input_states[i]=transit[0]\n",
    "            target_q[i]=self.model.predict(transit[0].reshape(1 , 5 ,5 ,self.n_state))\n",
    "            action=transit[2]\n",
    "            reward=transit[3]\n",
    "            \n",
    "            if transit[-1]:\n",
    "                target_q[i][action]=reward\n",
    "            else:\n",
    "                target_q[i][action]=reward+self.discount*np.max(self.model.predict(transit[1].reshape(1 , 5 ,5 ,self.n_state)))\n",
    "                \n",
    "        target_q = np.clip(target_q, -1.5, 1.5)\n",
    "\n",
    "        l = self.model.train_on_batch(input_states, target_q)\n",
    "\n",
    "\n",
    "        return l\n",
    "\n",
    "    def save(self,name_weights='model.h5',name_model='model.json'):\n",
    "        self.model.save_weights(name_weights, overwrite=True)\n",
    "        with open(name_model, \"w\") as outfile:\n",
    "            json.dump(self.model.to_json(), outfile)\n",
    "            \n",
    "    def load(self,name_weights='model.h5',name_model='model.json'):\n",
    "        with open(name_model, \"r\") as jfile:\n",
    "            model = model_from_json(json.load(jfile))\n",
    "        model.load_weights(name_weights)\n",
    "        model.compile(\"sgd\", \"mse\")\n",
    "        self.model = model\n",
    "\n",
    "            \n",
    "class DQN_FC(DQN):\n",
    "    def __init__(self, *args, lr=0.1,**kwargs):\n",
    "        super(DQN_FC, self).__init__( *args,**kwargs)\n",
    "        \n",
    "        model = Sequential()\n",
    "        model.add(Flatten(input_shape = (5 , 5 , self.n_state)))\n",
    "        model.add(Dense(128))\n",
    "        model.add(Activation('relu'))\n",
    "        model.add(Dense(32))\n",
    "        model.add(Activation('relu'))\n",
    "        model.add(Dense(4))\n",
    "\n",
    "        \n",
    "        model.compile(sgd(lr=lr, decay=1e-4, momentum=0.0), \"mse\")\n",
    "        self.model = model\n",
    "        "
   ]
  },
  {
   "cell_type": "code",
   "execution_count": 15,
   "metadata": {},
   "outputs": [
    {
     "name": "stdout",
     "output_type": "stream",
     "text": [
      "Epoch 000/030 | Loss 0.0607 | Win/lose count 4.0/2.0 (2.0)\n",
      "Epoch 001/030 | Loss 0.0097 | Win/lose count 1.0/2.0 (-1.0)\n",
      "Epoch 002/030 | Loss 0.0080 | Win/lose count 2.0/1.0 (1.0)\n",
      "Epoch 003/030 | Loss 0.0030 | Win/lose count 2.5/3.0 (-0.5)\n",
      "Epoch 004/030 | Loss 0.0031 | Win/lose count 4.0/1.0 (3.0)\n",
      "Epoch 005/030 | Loss 0.0010 | Win/lose count 2.5/6.0 (-3.5)\n",
      "Epoch 006/030 | Loss 0.0118 | Win/lose count 0.5/1.0 (-0.5)\n",
      "Epoch 007/030 | Loss 0.0031 | Win/lose count 0.5/5.0 (-4.5)\n",
      "Epoch 008/030 | Loss 0.0584 | Win/lose count 2.5/2.0 (0.5)\n",
      "Epoch 009/030 | Loss 0.0014 | Win/lose count 0.5/0 (0.5)\n",
      "Epoch 010/030 | Loss 0.0337 | Win/lose count 2.0/1.0 (1.0)\n",
      "Epoch 011/030 | Loss 0.0136 | Win/lose count 1.5/2.0 (-0.5)\n",
      "Epoch 012/030 | Loss 0.0190 | Win/lose count 1.0/4.0 (-3.0)\n",
      "Epoch 013/030 | Loss 0.0017 | Win/lose count 1.5/5.0 (-3.5)\n",
      "Epoch 014/030 | Loss 0.1066 | Win/lose count 4.0/2.0 (2.0)\n",
      "Epoch 015/030 | Loss 0.0479 | Win/lose count 0.5/0 (0.5)\n",
      "Epoch 016/030 | Loss 0.0015 | Win/lose count 0.5/1.0 (-0.5)\n",
      "Epoch 017/030 | Loss 0.0017 | Win/lose count 2.0/0 (2.0)\n",
      "Epoch 018/030 | Loss 0.0026 | Win/lose count 0.5/2.0 (-1.5)\n",
      "Epoch 019/030 | Loss 0.0060 | Win/lose count 1.0/5.0 (-4.0)\n",
      "Epoch 020/030 | Loss 0.0035 | Win/lose count 2.5/3.0 (-0.5)\n",
      "Epoch 021/030 | Loss 0.0015 | Win/lose count 1.5/0 (1.5)\n",
      "Epoch 022/030 | Loss 0.0076 | Win/lose count 1.5/1.0 (0.5)\n",
      "Epoch 023/030 | Loss 0.0022 | Win/lose count 4.0/1.0 (3.0)\n",
      "Epoch 024/030 | Loss 0.0518 | Win/lose count 2.0/3.0 (-1.0)\n",
      "Epoch 025/030 | Loss 0.0009 | Win/lose count 2.5/1.0 (1.5)\n",
      "Epoch 026/030 | Loss 0.0024 | Win/lose count 0/2.0 (-2.0)\n",
      "Epoch 027/030 | Loss 0.0010 | Win/lose count 1.5/2.0 (-0.5)\n",
      "Epoch 028/030 | Loss 0.0044 | Win/lose count 2.5/2.0 (0.5)\n",
      "Epoch 029/030 | Loss 0.0131 | Win/lose count 3.0/3.0 (0.0)\n"
     ]
    },
    {
     "data": {
      "text/html": [
       "<video alt=\"test\" controls>\n",
       "                <source src=\"data:video/mp4;base64,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\" type=\"video/mp4\" />\n",
       "             </video>"
      ],
      "text/plain": [
       "<IPython.core.display.HTML object>"
      ]
     },
     "execution_count": 15,
     "metadata": {},
     "output_type": "execute_result"
    }
   ],
   "source": [
    "env = Environment(grid_size=size, max_time=T, temperature=0.3)\n",
    "agent = DQN_FC(size, lr=.1, epsilon = 0.1, memory_size=2000, batch_size = 32)\n",
    "train(agent, env, epochs_train, prefix='fc_train')\n",
    "HTML(display_videos('fc_train20.mp4'))"
   ]
  },
  {
   "cell_type": "markdown",
   "metadata": {},
   "source": [
    "***\n",
    "***\n",
    "__Question 8__ Implement the DQN training algorithm using a CNN (for example, 2 convolutional layers and one final fully connected layer)."
   ]
  },
  {
   "cell_type": "code",
   "execution_count": 16,
   "metadata": {},
   "outputs": [],
   "source": [
    "class DQN_CNN(DQN):\n",
    "    def __init__(self, *args,lr=0.1,**kwargs):\n",
    "        super(DQN_CNN, self).__init__(*args,**kwargs)\n",
    "    \n",
    "        model=Sequential()\n",
    "        model.add(Conv2D(64 , 2 , input_shape = (5,5,self.n_state) , padding= 'same'))\n",
    "        model.add(Activation('relu'))\n",
    "        model.add(Conv2D(32 , 2))\n",
    "        model.add(Activation('relu'))\n",
    "        model.add(Conv2D(16 , 2))\n",
    "        model.add(Activation('relu'))\n",
    "        model.add(Flatten())\n",
    "        model.add(Dense(4))\n",
    "\n",
    "        model.compile(sgd(lr=lr, decay=1e-4, momentum=0.0), \"mse\")\n",
    "        self.model = model"
   ]
  },
  {
   "cell_type": "code",
   "execution_count": 17,
   "metadata": {},
   "outputs": [
    {
     "name": "stdout",
     "output_type": "stream",
     "text": [
      "Epoch 000/030 | Loss 0.0040 | Win/lose count 1.5/0 (1.5)\n",
      "Epoch 001/030 | Loss 0.0006 | Win/lose count 1.5/2.0 (-0.5)\n",
      "Epoch 002/030 | Loss 0.0591 | Win/lose count 1.5/1.0 (0.5)\n",
      "Epoch 003/030 | Loss 0.0006 | Win/lose count 2.0/2.0 (0.0)\n",
      "Epoch 004/030 | Loss 0.0078 | Win/lose count 1.0/3.0 (-2.0)\n",
      "Epoch 005/030 | Loss 0.0004 | Win/lose count 1.5/3.0 (-1.5)\n",
      "Epoch 006/030 | Loss 0.0003 | Win/lose count 1.0/1.0 (0.0)\n",
      "Epoch 007/030 | Loss 0.0006 | Win/lose count 3.5/1.0 (2.5)\n",
      "Epoch 008/030 | Loss 0.0037 | Win/lose count 1.5/1.0 (0.5)\n",
      "Epoch 009/030 | Loss 0.0021 | Win/lose count 2.0/1.0 (1.0)\n",
      "Epoch 010/030 | Loss 0.0071 | Win/lose count 2.5/2.0 (0.5)\n",
      "Epoch 011/030 | Loss 0.0166 | Win/lose count 1.5/3.0 (-1.5)\n",
      "Epoch 012/030 | Loss 0.0003 | Win/lose count 1.5/4.0 (-2.5)\n",
      "Epoch 013/030 | Loss 0.0002 | Win/lose count 4.0/2.0 (2.0)\n",
      "Epoch 014/030 | Loss 0.0005 | Win/lose count 2.0/0 (2.0)\n",
      "Epoch 015/030 | Loss 0.0007 | Win/lose count 1.5/2.0 (-0.5)\n",
      "Epoch 016/030 | Loss 0.0370 | Win/lose count 1.0/2.0 (-1.0)\n",
      "Epoch 017/030 | Loss 0.0697 | Win/lose count 3.0/1.0 (2.0)\n",
      "Epoch 018/030 | Loss 0.0013 | Win/lose count 1.5/5.0 (-3.5)\n",
      "Epoch 019/030 | Loss 0.0393 | Win/lose count 0.5/6.0 (-5.5)\n",
      "Epoch 020/030 | Loss 0.0006 | Win/lose count 2.5/3.0 (-0.5)\n",
      "Epoch 021/030 | Loss 0.0009 | Win/lose count 0.5/1.0 (-0.5)\n",
      "Epoch 022/030 | Loss 0.0133 | Win/lose count 4.0/3.0 (1.0)\n",
      "Epoch 023/030 | Loss 0.0083 | Win/lose count 1.0/6.0 (-5.0)\n",
      "Epoch 024/030 | Loss 0.0008 | Win/lose count 2.0/2.0 (0.0)\n",
      "Epoch 025/030 | Loss 0.0005 | Win/lose count 2.0/1.0 (1.0)\n",
      "Epoch 026/030 | Loss 0.0011 | Win/lose count 2.5/2.0 (0.5)\n",
      "Epoch 027/030 | Loss 0.0026 | Win/lose count 0.5/2.0 (-1.5)\n",
      "Epoch 028/030 | Loss 0.0016 | Win/lose count 2.5/2.0 (0.5)\n",
      "Epoch 029/030 | Loss 0.0004 | Win/lose count 0.5/2.0 (-1.5)\n"
     ]
    },
    {
     "data": {
      "text/html": [
       "<video alt=\"test\" controls>\n",
       "                <source src=\"data:video/mp4;base64,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\" type=\"video/mp4\" />\n",
       "             </video>"
      ],
      "text/plain": [
       "<IPython.core.display.HTML object>"
      ]
     },
     "execution_count": 17,
     "metadata": {},
     "output_type": "execute_result"
    }
   ],
   "source": [
    "env = Environment(grid_size=size, max_time=T, temperature=0.3)\n",
    "agent = DQN_CNN(size, lr=.1, epsilon = 0.1, memory_size=2000, batch_size = 32)\n",
    "train(agent,env,epochs_train,prefix='cnn_train')\n",
    "HTML(display_videos('cnn_train20.mp4'))"
   ]
  },
  {
   "cell_type": "markdown",
   "metadata": {},
   "source": [
    "***\n",
    "***\n",
    "__Question 9__ Test both algorithms and compare their performances. Which issue(s) do you observe? Observe also different behaviors by changing the temperature."
   ]
  },
  {
   "cell_type": "code",
   "execution_count": 18,
   "metadata": {},
   "outputs": [
    {
     "name": "stdout",
     "output_type": "stream",
     "text": [
      "Test of the CNN\n",
      "Win/lose count 1.0/1.0. Average score (0.0)\n",
      "Win/lose count 2.0/2.0. Average score (0.0)\n",
      "Win/lose count 1.5/4.0. Average score (-0.8333333333333334)\n",
      "Win/lose count 2.5/2.0. Average score (-0.5)\n",
      "Win/lose count 2.0/2.0. Average score (-0.4)\n",
      "Win/lose count 1.0/3.0. Average score (-0.6666666666666666)\n",
      "Win/lose count 2.5/1.0. Average score (-0.35714285714285715)\n",
      "Win/lose count 2.0/4.0. Average score (-0.5625)\n",
      "Win/lose count 1.0/2.0. Average score (-0.6111111111111112)\n",
      "Win/lose count 2.0/2.0. Average score (-0.55)\n",
      "Final score: -0.55\n",
      "Test of the FC\n",
      "Win/lose count 4.0/3.0. Average score (1.0)\n",
      "Win/lose count 2.5/2.0. Average score (0.75)\n",
      "Win/lose count 4.5/2.0. Average score (1.3333333333333333)\n",
      "Win/lose count 1.5/4.0. Average score (0.375)\n",
      "Win/lose count 3.0/0. Average score (0.9)\n",
      "Win/lose count 3.0/1.0. Average score (1.0833333333333333)\n",
      "Win/lose count 1.0/3.0. Average score (0.6428571428571429)\n",
      "Win/lose count 2.5/4.0. Average score (0.375)\n",
      "Win/lose count 2.0/4.0. Average score (0.1111111111111111)\n",
      "Win/lose count 2.5/0. Average score (0.35)\n",
      "Final score: 0.35\n"
     ]
    }
   ],
   "source": [
    "# Temperature 0.3\n",
    "env = Environment(grid_size=size, max_time=T,temperature=0.3)\n",
    "agent_cnn = DQN_CNN(size, lr=.1, epsilon = 0.1, memory_size=2000, batch_size = 32)\n",
    "agent_cnn.load(name_weights='cnn_trainmodel.h5',name_model='cnn_trainmodel.json')\n",
    "\n",
    "agent_fc = DQN_FC(size, lr=.1, epsilon = 0.1, memory_size=2000, batch_size = 32)\n",
    "agent_cnn.load(name_weights='fc_trainmodel.h5',name_model='fc_trainmodel.json')\n",
    "print('Test of the CNN')\n",
    "test(agent_cnn,env,epochs_test,prefix='cnn_test')\n",
    "print('Test of the FC')\n",
    "test(agent_fc,env,epochs_test,prefix='fc_test')"
   ]
  },
  {
   "cell_type": "code",
   "execution_count": 20,
   "metadata": {},
   "outputs": [
    {
     "data": {
      "text/html": [
       "<video alt=\"test\" controls>\n",
       "                <source src=\"data:video/mp4;base64,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\" type=\"video/mp4\" />\n",
       "             </video>"
      ],
      "text/plain": [
       "<IPython.core.display.HTML object>"
      ]
     },
     "execution_count": 20,
     "metadata": {},
     "output_type": "execute_result"
    }
   ],
   "source": [
    "HTML(display_videos('cnn_test0.mp4'))"
   ]
  },
  {
   "cell_type": "code",
   "execution_count": 21,
   "metadata": {},
   "outputs": [
    {
     "data": {
      "text/html": [
       "<video alt=\"test\" controls>\n",
       "                <source src=\"data:video/mp4;base64,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\" type=\"video/mp4\" />\n",
       "             </video>"
      ],
      "text/plain": [
       "<IPython.core.display.HTML object>"
      ]
     },
     "execution_count": 21,
     "metadata": {},
     "output_type": "execute_result"
    }
   ],
   "source": [
    "HTML(display_videos('fc_test0.mp4'))"
   ]
  },
  {
   "cell_type": "markdown",
   "metadata": {},
   "source": []
  },
  {
   "cell_type": "markdown",
   "metadata": {},
   "source": [
    "***\n",
    "\n",
    "The algorithm tends to not explore the map which can be an issue. We propose two ideas in order to encourage exploration:\n",
    "1. Incorporating a decreasing $\\epsilon$-greedy exploration. You can use the method ```set_epsilon```\n",
    "2. Append via the environment a new state that describes if a cell has been visited or not\n",
    "\n",
    "***\n",
    "__Question 10__ Design a new ```train_explore``` function and environment class ```EnvironmentExploring``` to tackle the issue of exploration.\n",
    "\n"
   ]
  },
  {
   "cell_type": "code",
   "execution_count": 22,
   "metadata": {},
   "outputs": [],
   "source": [
    "def train_explore(agent,env,epoch,prefix=''):\n",
    "# Number of won games\n",
    "    score = 0\n",
    "    loss = 0\n",
    "    agent.set_epsilon(0.9)\n",
    "    \n",
    "    for e in range(epoch):\n",
    "        # At each epoch, we restart to a fresh game and get the initial state\n",
    "        state = env.reset()\n",
    "        # This assumes that the games will terminate\n",
    "        game_over = False\n",
    "\n",
    "        win = 0\n",
    "        lose = 0\n",
    "        agent.set_epsilon(agent.epsilon*0.95)\n",
    "\n",
    "        while not game_over:\n",
    "            # The agent performs an action\n",
    "            action = agent.act(state)\n",
    "\n",
    "            # Apply an action to the environment, get the next state, the reward\n",
    "            # and if the games end\n",
    "            prev_state = state\n",
    "            state, reward, game_over = env.act(action)\n",
    "\n",
    "            # Update the counters\n",
    "            if reward > 0:\n",
    "                win = win + reward\n",
    "            if reward < 0:\n",
    "                lose = lose -reward\n",
    "\n",
    "            # Apply the reinforcement strategy\n",
    "            loss = agent.reinforce(prev_state, state,  action, reward, game_over)\n",
    "\n",
    "        # Save as a mp4\n",
    "        if e % 10 == 0:\n",
    "            env.draw(prefix+str(e))\n",
    "\n",
    "        # Update stats\n",
    "        score += win-lose\n",
    "\n",
    "        print(\"Epoch {:03d}/{:03d} | Loss {:.4f} | Win/lose count {}/{} ({})\"\n",
    "              .format(e, epoch, loss, win, lose, win-lose))\n",
    "        agent.save(name_weights=prefix+'model.h5',name_model=prefix+'model.json')\n",
    "        \n",
    "class EnvironmentExploring(object):\n",
    "    def __init__(self, grid_size=10, max_time=500, temperature=0.1):\n",
    "        grid_size = grid_size+4\n",
    "        self.grid_size = grid_size\n",
    "        self.max_time = max_time\n",
    "        self.temperature = temperature\n",
    "\n",
    "        #board on which one plays\n",
    "        self.board = np.zeros((grid_size,grid_size))\n",
    "        self.position = np.zeros((grid_size,grid_size))\n",
    "        self.malus_position = np.zeros((grid_size,grid_size))\n",
    "\n",
    "        # coordinate of the cat\n",
    "        self.x = 0\n",
    "        self.y = 1\n",
    "\n",
    "        # self time\n",
    "        self.t = 0\n",
    "\n",
    "        self.scale=16\n",
    "\n",
    "        self.to_draw = np.zeros((max_time+2, grid_size*self.scale, grid_size*self.scale, 3))\n",
    "\n",
    "\n",
    "    def draw(self,e):\n",
    "        skvideo.io.vwrite(str(e) + '.mp4', self.to_draw)\n",
    "\n",
    "    def get_frame(self,t):\n",
    "        b = np.zeros((self.grid_size,self.grid_size,3))+128\n",
    "        b[self.board>0,0] = 256\n",
    "        b[self.board < 0, 2] = 256\n",
    "        b[self.x,self.y,:]=256\n",
    "        b[-2:,:,:]=0\n",
    "        b[:,-2:,:]=0\n",
    "        b[:2,:,:]=0\n",
    "        b[:,:2,:]=0\n",
    "        \n",
    "        b =  cv2.resize(b, None, fx=self.scale, fy=self.scale, interpolation=cv2.INTER_NEAREST)\n",
    "\n",
    "        self.to_draw[t,:,:,:]=b\n",
    "\n",
    "\n",
    "    def act(self, action,train=True):\n",
    "        \"\"\"This function returns the new state, reward and decides if the\n",
    "        game ends.\"\"\"\n",
    "\n",
    "        self.get_frame(int(self.t))\n",
    "\n",
    "        self.position = np.zeros((self.grid_size, self.grid_size))\n",
    "\n",
    "        self.position[0:2,:]= -1\n",
    "        self.position[:,0:2] = -1\n",
    "        self.position[-2:, :] = -1\n",
    "        self.position[-2:, :] = -1\n",
    "\n",
    "        self.position[self.x, self.y] = 1\n",
    "        if action == 0:\n",
    "            if self.x == self.grid_size-3:\n",
    "                self.x = self.x-1\n",
    "            else:\n",
    "                self.x = self.x + 1\n",
    "        elif action == 1:\n",
    "            if self.x == 2:\n",
    "                self.x = self.x+1\n",
    "            else:\n",
    "                self.x = self.x-1\n",
    "        elif action == 2:\n",
    "            if self.y == self.grid_size - 3:\n",
    "                self.y = self.y - 1\n",
    "            else:\n",
    "                self.y = self.y + 1\n",
    "        elif action == 3:\n",
    "            if self.y == 2:\n",
    "                self.y = self.y + 1\n",
    "            else:\n",
    "                self.y = self.y - 1\n",
    "        else:\n",
    "            RuntimeError('Error: action not recognized')\n",
    "\n",
    "        self.t = self.t + 1\n",
    "        reward = self.board[self.x, self.y]\n",
    "        if train:\n",
    "            reward = -self.malus_position[self.x, self.y]\n",
    "        self.malus_position[self.x, self.y] = 0.1\n",
    "        self.board[self.x, self.y] = 0\n",
    "        game_over = self.t > self.max_time\n",
    "        state = np.concatenate((self.malus_position.reshape(self.grid_size, self.grid_size,1),\n",
    "                                self.board.reshape(self.grid_size, self.grid_size,1),\n",
    "                        self.position.reshape(self.grid_size, self.grid_size,1)),axis=2)\n",
    "        state = state[self.x-2:self.x+3,self.y-2:self.y+3,:]\n",
    "\n",
    "        return state, reward, game_over\n",
    "\n",
    "    def reset(self):\n",
    "        \"\"\"This function resets the game and returns the initial state\"\"\"\n",
    "\n",
    "        self.x = np.random.randint(3, self.grid_size-3, size=1)[0]\n",
    "        self.y = np.random.randint(3, self.grid_size-3, size=1)[0]\n",
    "        \n",
    "\n",
    "\n",
    "        bonus = 0.5*np.random.binomial(1,self.temperature,size=self.grid_size**2)\n",
    "        bonus = bonus.reshape(self.grid_size,self.grid_size)\n",
    "\n",
    "        malus = -1.0*np.random.binomial(1,self.temperature,size=self.grid_size**2)\n",
    "        malus = malus.reshape(self.grid_size, self.grid_size)\n",
    "\n",
    "        self.to_draw = np.zeros((self.max_time+2, self.grid_size*self.scale, self.grid_size*self.scale, 3))\n",
    "\n",
    "\n",
    "        malus[bonus>0]=0\n",
    "\n",
    "        self.board = bonus + malus\n",
    "\n",
    "        self.position = np.zeros((self.grid_size, self.grid_size))\n",
    "        self.malus_position = np.zeros((self.grid_size,self.grid_size))\n",
    "        \n",
    "        self.position[0:2,:]= -1\n",
    "        self.position[:,0:2] = -1\n",
    "        self.position[-2:, :] = -1\n",
    "        self.position[-2:, :] = -1\n",
    "        self.board[self.x,self.y] = 0\n",
    "        self.malus_position[self.x,self.y]=0.1\n",
    "        self.t = 0\n",
    "        \n",
    "        state = np.concatenate((self.malus_position.reshape(self.grid_size, self.grid_size,1),\n",
    "                                self.board.reshape(self.grid_size, self.grid_size,1),\n",
    "                        self.position.reshape(self.grid_size, self.grid_size,1)),axis=2)\n",
    "\n",
    "        state = state[self.x - 2:self.x + 3, self.y - 2:self.y + 3, :]\n",
    "        return state\n"
   ]
  },
  {
   "cell_type": "code",
   "execution_count": 23,
   "metadata": {},
   "outputs": [
    {
     "name": "stdout",
     "output_type": "stream",
     "text": [
      "Epoch 000/030 | Loss 0.0018 | Win/lose count 0/14.199999999999966 (-14.199999999999966)\n",
      "Epoch 001/030 | Loss 0.0015 | Win/lose count 0/14.499999999999964 (-14.499999999999964)\n",
      "Epoch 002/030 | Loss 0.0007 | Win/lose count 0/15.199999999999962 (-15.199999999999962)\n",
      "Epoch 003/030 | Loss 0.0018 | Win/lose count 0/16.09999999999996 (-16.09999999999996)\n",
      "Epoch 004/030 | Loss 0.0168 | Win/lose count 0/15.099999999999962 (-15.099999999999962)\n",
      "Epoch 005/030 | Loss 0.0017 | Win/lose count 0/14.899999999999963 (-14.899999999999963)\n",
      "Epoch 006/030 | Loss 0.0007 | Win/lose count 0/14.699999999999964 (-14.699999999999964)\n",
      "Epoch 007/030 | Loss 0.0025 | Win/lose count 0/16.79999999999997 (-16.79999999999997)\n",
      "Epoch 008/030 | Loss 0.0008 | Win/lose count 0/14.999999999999963 (-14.999999999999963)\n",
      "Epoch 009/030 | Loss 0.0003 | Win/lose count 0/14.499999999999964 (-14.499999999999964)\n",
      "Epoch 010/030 | Loss 0.0004 | Win/lose count 0/16.79999999999997 (-16.79999999999997)\n",
      "Epoch 011/030 | Loss 0.0003 | Win/lose count 0/17.199999999999974 (-17.199999999999974)\n",
      "Epoch 012/030 | Loss 0.0002 | Win/lose count 0/16.599999999999966 (-16.599999999999966)\n",
      "Epoch 013/030 | Loss 0.0004 | Win/lose count 0/16.09999999999996 (-16.09999999999996)\n",
      "Epoch 014/030 | Loss 0.0006 | Win/lose count 0/16.19999999999996 (-16.19999999999996)\n",
      "Epoch 015/030 | Loss 0.0002 | Win/lose count 0/17.299999999999976 (-17.299999999999976)\n",
      "Epoch 016/030 | Loss 0.0148 | Win/lose count 0/15.499999999999961 (-15.499999999999961)\n",
      "Epoch 017/030 | Loss 0.0003 | Win/lose count 0/16.29999999999996 (-16.29999999999996)\n",
      "Epoch 018/030 | Loss 0.0003 | Win/lose count 0/17.099999999999973 (-17.099999999999973)\n",
      "Epoch 019/030 | Loss 0.0002 | Win/lose count 0/16.99999999999997 (-16.99999999999997)\n",
      "Epoch 020/030 | Loss 0.0146 | Win/lose count 0/17.199999999999974 (-17.199999999999974)\n",
      "Epoch 021/030 | Loss 0.0002 | Win/lose count 0/17.69999999999998 (-17.69999999999998)\n",
      "Epoch 022/030 | Loss 0.0003 | Win/lose count 0/16.79999999999997 (-16.79999999999997)\n",
      "Epoch 023/030 | Loss 0.0003 | Win/lose count 0/17.299999999999976 (-17.299999999999976)\n",
      "Epoch 024/030 | Loss 0.0003 | Win/lose count 0/17.399999999999977 (-17.399999999999977)\n",
      "Epoch 025/030 | Loss 0.0002 | Win/lose count 0/17.999999999999986 (-17.999999999999986)\n",
      "Epoch 026/030 | Loss 0.0002 | Win/lose count 0/17.69999999999998 (-17.69999999999998)\n",
      "Epoch 027/030 | Loss 0.0001 | Win/lose count 0/18.099999999999987 (-18.099999999999987)\n",
      "Epoch 028/030 | Loss 0.0002 | Win/lose count 0/18.499999999999993 (-18.499999999999993)\n",
      "Epoch 029/030 | Loss 0.0002 | Win/lose count 0/18.39999999999999 (-18.39999999999999)\n"
     ]
    },
    {
     "data": {
      "text/html": [
       "<video alt=\"test\" controls>\n",
       "                <source src=\"data:video/mp4;base64,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\" type=\"video/mp4\" />\n",
       "             </video>"
      ],
      "text/plain": [
       "<IPython.core.display.HTML object>"
      ]
     },
     "execution_count": 23,
     "metadata": {},
     "output_type": "execute_result"
    }
   ],
   "source": [
    "# Training\n",
    "env = EnvironmentExploring(grid_size=size, max_time=T, temperature=0.3)\n",
    "agent = DQN_CNN(size, lr=.1, epsilon = 0.1, memory_size=2000, batch_size = 32,n_state=3)\n",
    "train_explore(agent, env, epochs_train, prefix='cnn_train_explore')\n",
    "HTML(display_videos('cnn_train_explore10.mp4'))"
   ]
  },
  {
   "cell_type": "code",
   "execution_count": 25,
   "metadata": {},
   "outputs": [
    {
     "name": "stdout",
     "output_type": "stream",
     "text": [
      "Win/lose count 0/16.79999999999997. Average score (-16.79999999999997)\n",
      "Win/lose count 0/17.69999999999998. Average score (-17.249999999999975)\n",
      "Win/lose count 0/17.799999999999983. Average score (-17.433333333333312)\n",
      "Win/lose count 0/18.39999999999999. Average score (-17.674999999999983)\n",
      "Win/lose count 0/17.899999999999984. Average score (-17.71999999999998)\n",
      "Win/lose count 0/17.799999999999983. Average score (-17.733333333333317)\n",
      "Win/lose count 0/16.89999999999997. Average score (-17.614285714285696)\n",
      "Win/lose count 0/18.9. Average score (-17.774999999999984)\n",
      "Win/lose count 0/18.499999999999993. Average score (-17.85555555555554)\n",
      "Win/lose count 0/18.699999999999996. Average score (-17.939999999999987)\n",
      "Final score: -17.939999999999987\n"
     ]
    },
    {
     "data": {
      "text/html": [
       "<video alt=\"test\" controls>\n",
       "                <source src=\"data:video/mp4;base64,AAAAIGZ0eXBpc29tAAACAGlzb21pc28yYXZjMW1wNDEAAAAIZnJlZQAAFQhtZGF0AAACrQYF//+p3EXpvebZSLeWLNgg2SPu73gyNjQgLSBjb3JlIDE1NyByMjkzNSA1NDVkZTJmIC0gSC4yNjQvTVBFRy00IEFWQyBjb2RlYyAtIENvcHlsZWZ0IDIwMDMtMjAxOCAtIGh0dHA6Ly93d3cudmlkZW9sYW4ub3JnL3gyNjQuaHRtbCAtIG9wdGlvbnM6IGNhYmFjPTEgcmVmPTMgZGVibG9jaz0xOjA6MCBhbmFseXNlPTB4MToweDExMSBtZT1oZXggc3VibWU9NyBwc3k9MSBwc3lfcmQ9MS4wMDowLjAwIG1peGVkX3JlZj0xIG1lX3JhbmdlPTE2IGNocm9tYV9tZT0xIHRyZWxsaXM9MSA4eDhkY3Q9MCBjcW09MCBkZWFkem9uZT0yMSwxMSBmYXN0X3Bza2lwPTEgY2hyb21hX3FwX29mZnNldD00IHRocmVhZHM9NiBsb29rYWhlYWRfdGhyZWFkcz0xIHNsaWNlZF90aHJlYWRzPTAgbnI9MCBkZWNpbWF0ZT0xIGludGVybGFjZWQ9MCBibHVyYXlfY29tcGF0PTAgY29uc3RyYWluZWRfaW50cmE9MCBiZnJhbWVzPTMgYl9weXJhbWlkPTIgYl9hZGFwdD0xIGJfYmlhcz0wIGRpcmVjdD0xIHdlaWdodGI9MSBvcGVuX2dvcD0wIHdlaWdodHA9MiBrZXlpbnQ9MjUwIGtleWludF9taW49MjUgc2NlbmVjdXQ9NDAgaW50cmFfcmVmcmVzaD0wIHJjX2xvb2thaGVhZD00MCByYz1jcmYgbWJ0cmVlPTEgY3JmPTIzLjAgcWNvbXA9MC42MCBxcG1pbj0wIHFwbWF4PTY5IHFwc3RlcD00IGlwX3JhdGlvPTEuNDAgYXE9MToxLjAwAIAAAAL6ZYiEADv//vb8/AptUwn/LZ/+iL/lb+9P2a61uFE7M7QacwPQC/3cd/Xi1bCrc27LcdG8bJkAU3Roif7wCe9Tgy+t5n4FNXSdn4FJQpRtL6hiSvlWhPgBOXMsSRKnaxSgGYU0Eu+VUVeJughP1c9sWmiKA8AfQACyMLLb5cp2QdToheizrCjcWpOiJRLEZYwmhnAR5c5DgWdd+0Rqby70fM+d9ohcwR7KViY21PMnVKzeUKe+KgtDYIQCFVqyFpU89i+BWdK6eLrcXIOJSYV8RP5s7BJsuM3pQJOBEYPnmSPH+vCyWOXAIe7YYSKQIUihPfqeKuiLCNp2rr1jDhVilOB35ES4xlOnl6oswn9YhQa/E7KCTYTf/XFAIq+CxW2VibczhsxzNNpBpqbLyC7iSetntGVC2blEtIJFTLH592EPeSVvjxuZsAAGg//c7cXVAg6mvTSGGxgEdzxYmITyjxoiWwq7nAY+KfNhjfy5gFYIOmEoZidasJEiXXwxAd1RMUJkYHy1DXBQwyd+xxAsCYLghABG6sVe5V105Kyv4bHlh4V/HXUEK/pNcvTE8TmsvS/7VTXgfh/5HPtlIa9EBgrWiixANBuU6wxMMOG9xLhQydq/gT7jwVC4oRlO9ytIRxwTH1UeskNLYgkn2qEvIBlQYaWEWEyGKcfTwvtj7eVnt/L3cimdGsnuispPnlojrjzFQ9zHQzpBRMsXBwAEdKBRjAFGMvfllF48Xj+SK3wbZ1CvDS7uLMHZa5zOuTYN0FIDj28ZiUwJ/+SbYXBAnWdv0zYepZbZm2E7ZpNpMbw7V1AG+dv3EEeB3H9ZSjUyNZixMliSZOwgtj/cvmpQSIO/4Ska1Ov/ggjl59NIMWU0modjmJIdwGbtRe29HcG0aJ+d9wai7tHCF00tgM7vCymoGP4jyJSBaGYqzKQWM4mjwLkCfRvhXBEoQ8rcAOJAy/FIoLbUuoh0tpO6sB8SJvhGmi0sdEZl3T4obtJOlhhj19nBAD8FgAGJAAAAIkGaJGxDv/6plgAar2G+ZZYwqrwKZrip4FEnrXhIIZ/NbMAAAAANQZ5CeIX/AB8WpXRH8QAAAAoBnmF0Qr8AAO6AAAAADQGeY2pCvwArLbgSm8EAAAATQZpoSahBaJlMCHf//qmWAACVgQAAAAxBnoZFESwv/wAAsoEAAAAKAZ6ldEK/AADugQAAAAoBnqdqQr8AAO6AAAAAGkGarEmoQWyZTAh3//6plgApPyDM+8TfdqiwAAAAD0GeykUVLC//ADECKRh8YQAAAA0Bnul0Qr8AQX0omXjAAAAACgGe62pCvwAA7oAAAAATQZrwSahBbJlMCHf//qmWAACVgQAAAAxBnw5FFSwv/wAAsoEAAAAKAZ8tdEK/AADugQAAAAoBny9qQr8AAO6AAAAAE0GbNEmoQWyZTAh3//6plgAAlYAAAAAMQZ9SRRUsL/8AALKBAAAACgGfcXRCvwAA7oAAAAAKAZ9zakK/AADugAAAABNBm3hJqEFsmUwId//+qZYAAJWBAAAADEGflkUVLC//AACygAAAAAoBn7V0Qr8AAO6BAAAACgGft2pCvwAA7oEAAAATQZu8SahBbJlMCHf//qmWAACVgAAAAAxBn9pFFSwv/wAAsoEAAAAKAZ/5dEK/AADugAAAAAoBn/tqQr8AAO6BAAAAE0Gb4EmoQWyZTAh3//6plgAAlYEAAAAMQZ4eRRUsL/8AALKAAAAACgGePXRCvwAA7oAAAAAKAZ4/akK/AADugQAAABNBmiRJqEFsmUwId//+qZYAAJWAAAAADEGeQkUVLC//AACygQAAAAoBnmF0Qr8AAO6AAAAACgGeY2pCvwAA7oEAAAATQZpoSahBbJlMCHf//qmWAACVgQAAAAxBnoZFFSwv/wAAsoEAAAAKAZ6ldEK/AADugQAAAAoBnqdqQr8AAO6AAAAAGkGarEmoQWyZTAh3//6plgAqYI5qt6DOiwFNAAAAD0GeykUVLC//ADJKmhq6PQAAAAoBnul0Qr8AAO6AAAAADQGe62pCvwBDZNw190AAAAAaQZrwSahBbJlMCHf//qmWACqfJL79kG4qDTEAAAAPQZ8ORRUsL/8AMkq1Kx7ZAAAACgGfLXRCvwAA7oEAAAANAZ8vakK/AEN2ebhdsAAAABNBmzRJqEFsmUwId//+qZYAAJWAAAAADEGfUkUVLC//AACygQAAAAoBn3F0Qr8AAO6AAAAACgGfc2pCvwAA7oAAAAATQZt4SahBbJlMCHf//qmWAACVgQAAAAxBn5ZFFSwv/wAAsoAAAAAKAZ+1dEK/AADugQAAABABn7dqQr8AK9ZR3s8fbziBAAAAG0GbukmoQWyZTBRMO//+qZYAKl8gzPvE33aoEAAAAA0Bn9lqQr8AQ2VwJQBBAAAAFkGb3knhClJlMCHf/qmWAEB+PP5IycAAAAARQZ/8RTRML/8ATXbLFZDq/M0AAAANAZ4bdEK/AGmAPrcvEQAAAA0Bnh1qQr8AaZ2puFeIAAAAGkGaAkmoQWiZTAh3//6plgAqnvq+uxBuKg0wAAAAD0GeIEURLC//ADJCKRh7YQAAAA0Bnl90Qr8AQ12UtztgAAAACgGeQWpCvwAA7oEAAAAaQZpGSahBbJlMCHf//qmWABtPaX87pCmEWpAAAAAPQZ5kRRUsL/8AH7/ZX1axAAAADQGeg3RCvwAsScpbp1EAAAAKAZ6FakK/AADugQAAABNBmopJqEFsmUwId//+qZYAAJWBAAAADEGeqEUVLC//AACygAAAAAoBnsd0Qr8AAO6AAAAACgGeyWpCvwAA7oEAAAAdQZrOSahBbJlMCHf//qmWABGfjz+RelztJg0BSoAAAAASQZ7sRRUsL/8AFQZSpTcC0zLAAAAADQGfC3RCvwAcWMQedqEAAAANAZ8NakK/ABJZXAmBQQAAABNBmxJJqEFsmUwId//+qZYAAJWBAAAADEGfMEUVLC//AACygAAAAAoBn090Qr8AAO6AAAAACgGfUWpCvwAA7oEAAAAaQZtVSahBbJlMCHf//qmWAAdT2l/O6QphKJAAAAAPQZ9zRRUsK/8AC/O1NxY4AAAADQGflGpCvwAL87U3FjkAAAAhQZuZSahBbJlMCG///qeEAAmwMeQeDnwiRwCa/nffaAKYAAAAEkGft0UVLC//AAXSfL43eAHwQQAAAA0Bn9Z0Qr8AB5eEX6ZxAAAADgGf2GpCvwAHxZrFcCkMAAAAGEGb20moQWyZTBRMO//+qZYABOFR6cLT6QAAAA0Bn/pqQr8AB8WZ8+XwAAAAGUGb/UnhClJlMFLDv/6plgAEx+POsd2yk4EAAAANAZ4cakK/AAeYFcOZwQAAABtBmgFJ4Q6JlMCHf/6plgAEp+POlnR0bS9fhzgAAAATQZ4/RRU8L/8ABYl+zZehI+8xwAAAAA4Bnl50Qr8AB2uFbF8pTQAAAA0BnkBqQr8AB0GZ8+dwAAAAE0GaRUmoQWiZTAh3//6plgAAlYEAAAAMQZ5jRREsL/8AALKAAAAACgGegnRCvwAA7oEAAAAKAZ6EakK/AADugQAAABpBmolJqEFsmUwId//+qZYABIfo5pZ0dTzNwQAAAA9BnqdFFSwv/wAFZY25dtEAAAANAZ7GdEK/AAc/hF+ncAAAAAoBnshqQr8AAO6AAAAAGkGazUmoQWyZTAh3//6plgAGyqQZoA9JfZTRAAAAD0Ge60UVLC//AAfxOaVplAAAAAoBnwp0Qr8AAO6AAAAADQGfDGpCvwALE24E3cEAAAApQZsRSahBbJlMCHf//qmWAA+vv1cyytU1XgUokC8Cma5Y5X1bdFl0e7kAAAATQZ8vRRUsL/8AEtz7jORApa0aUQAAABABn050Qr8AEF9RInxZikywAAAADQGfUGpCvwAZwlrNZmAAAAAaQZtVSahBbJlMCHf//qmWAA+vtLwtQT+wNuEAAAAPQZ9zRRUsL/8AEtnrXYhgAAAADQGfknRCvwAZyRMJ0WAAAAAKAZ+UakK/AADugQAAABpBm5lJqEFsmUwId//+qZYAD1e0vC1BP7A4IAAAAA9Bn7dFFSwv/wASWetdiWEAAAANAZ/WdEK/ABkf+X5skQAAAAoBn9hqQr8AAO6AAAAAGkGb3UmoQWyZTAh3//6plgAXb5BmgD0l9hKRAAAAD0Gf+0UVLC//ABulWpWS3AAAAAoBnhp0Qr8AAO6BAAAADQGeHGpCvwAlsrgSpsEAAAAaQZoBSahBbJlMCHf//qmWABePklpZ0dTyVmAAAAAPQZ4/RRUsL/8AG6D0QBswAAAADQGeXnRCvwAlvmVplmEAAAAKAZ5AakK/AADugAAAABpBmkVJqEFsmUwId//+qZYAIwiw3RiEc+wS4QAAAA9BnmNFFSwv/wAqFALcoRwAAAAKAZ6CdEK/AADugQAAAA0BnoRqQr8AOKD/mojhAAAAGkGaiUmoQWyZTAh3//6plgAjPx50s6Op5IfBAAAAD0Gep0UVLC//ACoT69q7XQAAAAoBnsZ0Qr8AAO6AAAAADQGeyGpCvwA4rM+ewfAAAAATQZrNSahBbJlMCHf//qmWAACVgQAAAAxBnutFFSwv/wAAsoAAAAAKAZ8KdEK/AADugAAAAAoBnwxqQr8AAO6BAAAAE0GbEUmoQWyZTAh3//6plgAAlYEAAAAMQZ8vRRUsL/8AALKBAAAACgGfTnRCvwAA7oAAAAAKAZ9QakK/AADugAAAABpBm1VJqEFsmUwId//+qZYANRUgzQB6S+wHcQAAAA9Bn3NFFSwv/wA+H7K+j3AAAAANAZ+SdEK/AFZTlLcz8AAAAAoBn5RqQr8AAO6BAAAAGkGbmUmoQWyZTAh3//6plgA1XtLwtQT+wEDAAAAAD0Gft0UVLC//AD4faHXHYQAAAA0Bn9Z0Qr8AVlM/+XgRAAAACgGf2GpCvwAA7oAAAAAeQZvdSahBbJlMCHf//qmWAE4KOoQZoFPsx9745wuzAAAAEkGf+0UVLC//AF0oEU7GR4koTgAAAA0Bnhp0Qr8AVBM/+XixAAAADQGeHGpCvwB8WeFzNPkAAAAZQZoBSahBbJlMCHf//qmWAE4RZN2GcEGnPgAAAA9Bnj9FFSwv/wBdKAW5OnwAAAAKAZ5edEK/AADugQAAAA0BnkBqQr8AfEH/NNPgAAAAGEGaRUmoQWyZTAh3//6plgBOFThZzH4hWwAAAA9BnmNFFSwv/wBdKAW5OnwAAAAKAZ6CdEK/AADugQAAAA0BnoRqQr8AfEH/NNPhAAAAHkGaiUmoQWyZTAh3//6plgB6B1AtEm4cFHjzTrXd0QAAABJBnqdFFSwv/wCS59zubr2SQcEAAAANAZ7GdEK/AH8ioCam4AAAAA0BnshqQr8AyLtTcKQYAAAAE0GazUmoQWyZTAh3//6plgAAlYEAAAAMQZ7rRRUsL/8AALKAAAAAEAGfCnRCvwE3EAc/rQORxsAAAAAKAZ8MakK/AADugQAAABNBmxFJqEFsmUwId//+qZYAAJWBAAAADEGfL0UVLC//AACygQAAAAoBn050Qr8AAO6AAAAACgGfUGpCvwAA7oAAAAATQZtVSahBbJlMCHf//qmWAACVgQAAAAxBn3NFFSwv/wAAsoAAAAAKAZ+SdEK/AADugAAAAAoBn5RqQr8AAO6BAAAAE0GbmUmoQWyZTAh3//6plgAAlYAAAAAMQZ+3RRUsL/8AALKBAAAACgGf1nRCvwAA7oEAAAAKAZ/YakK/AADugAAAABpBm91JqEFsmUwId//+qZYAfMdPymjH60k/wQAAAA9Bn/tFFSwv/wCW552Z5iwAAAAKAZ4adEK/AADugQAAAA0BnhxqQr8AzZGga1BBAAAAGkGaAUmoQWyZTAhv//6nhAGd6J/qhsx+AoeAAAAAD0GeP0UVLC//AOenNKxfhAAAAAoBnl50Qr8AAO6BAAAADQGeQGpCvwE/sebhPwgAAAASQZpFSahBbJlMCGf//p4QAAR9AAAADEGeY0UVLC//AACygAAAAAoBnoJ0Qr8AAO6BAAAACgGehGpCvwAA7oEAAAAaQZqJS6hCEFskRggoB/IB/YeAIV/+OEAAEXEAAAAjQZ6nRRUsL/8CAdzqS9szCrmA6Bq1qFwJQBlok8LfMpM0nDEAAAAKAZ7GdEK/AADugAAAACUBnshqQr8Cr2PtQcTdqsprHP7DObTEF751oXroYO7Ju30/lG8+AAAMgG1vb3YAAABsbXZoZAAAAAAAAAAAAAAAAAAAA+gAAB+QAAEAAAEAAAAAAAAAAAAAAAABAAAAAAAAAAAAAAAAAAAAAQAAAAAAAAAAAAAAAAAAQAAAAAAAAAAAAAAAAAAAAAAAAAAAAAAAAAAAAAAAAAIAAAuqdHJhawAAAFx0a2hkAAAAAwAAAAAAAAAAAAAAAQAAAAAAAB+QAAAAAAAAAAAAAAAAAAAAAAABAAAAAAAAAAAAAAAAAAAAAQAAAAAAAAAAAAAAAAAAQAAAAAEQAAABEAAAAAAAJGVkdHMAAAAcZWxzdAAAAAAAAAABAAAfkAAABAAAAQAAAAALIm1kaWEAAAAgbWRoZAAAAAAAAAAAAAAAAAAAMgAAAZQAVcQAAAAAAC1oZGxyAAAAAAAAAAB2aWRlAAAAAAAAAAAAAAAAVmlkZW9IYW5kbGVyAAAACs1taW5mAAAAFHZtaGQAAAABAAAAAAAAAAAAAAAkZGluZgAAABxkcmVmAAAAAAAAAAEAAAAMdXJsIAAAAAEAAAqNc3RibAAAAJVzdHNkAAAAAAAAAAEAAACFYXZjMQAAAAAAAAABAAAAAAAAAAAAAAAAAAAAAAEQARAASAAAAEgAAAAAAAAAAQAAAAAAAAAAAAAAAAAAAAAAAAAAAAAAAAAAAAAAAAAAABj//wAAAC9hdmNDAfQADf/hABdn9AANkZsoIhHQgAAAAwCAAAAZB4oUywEABWjr48RIAAAAGHN0dHMAAAAAAAAAAQAAAMoAAAIAAAAAFHN0c3MAAAAAAAAAAQAAAAEAAAZYY3R0cwAAAAAAAADJAAAAAQAABAAAAAABAAAKAAAAAAEAAAQAAAAAAQAAAAAAAAABAAACAAAAAAEAAAoAAAAAAQAABAAAAAABAAAAAAAAAAEAAAIAAAAAAQAACgAAAAABAAAEAAAAAAEAAAAAAAAAAQAAAgAAAAABAAAKAAAAAAEAAAQAAAAAAQAAAAAAAAABAAACAAAAAAEAAAoAAAAAAQAABAAAAAABAAAAAAAAAAEAAAIAAAAAAQAACgAAAAABAAAEAAAAAAEAAAAAAAAAAQAAAgAAAAABAAAKAAAAAAEAAAQAAAAAAQAAAAAAAAABAAACAAAAAAEAAAoAAAAAAQAABAAAAAABAAAAAAAAAAEAAAIAAAAAAQAACgAAAAABAAAEAAAAAAEAAAAAAAAAAQAAAgAAAAABAAAKAAAAAAEAAAQAAAAAAQAAAAAAAAABAAACAAAAAAEAAAoAAAAAAQAABAAAAAABAAAAAAAAAAEAAAIAAAAAAQAACgAAAAABAAAEAAAAAAEAAAAAAAAAAQAAAgAAAAABAAAKAAAAAAEAAAQAAAAAAQAAAAAAAAABAAACAAAAAAEAAAoAAAAAAQAABAAAAAABAAAAAAAAAAEAAAIAAAAAAQAABgAAAAABAAACAAAAAAEAAAoAAAAAAQAABAAAAAABAAAAAAAAAAEAAAIAAAAAAQAACgAAAAABAAAEAAAAAAEAAAAAAAAAAQAAAgAAAAABAAAKAAAAAAEAAAQAAAAAAQAAAAAAAAABAAACAAAAAAEAAAoAAAAAAQAABAAAAAABAAAAAAAAAAEAAAIAAAAAAQAACgAAAAABAAAEAAAAAAEAAAAAAAAAAQAAAgAAAAABAAAKAAAAAAEAAAQAAAAAAQAAAAAAAAABAAACAAAAAAEAAAgAAAAAAgAAAgAAAAABAAAKAAAAAAEAAAQAAAAAAQAAAAAAAAABAAACAAAAAAEAAAYAAAAAAQAAAgAAAAABAAAGAAAAAAEAAAIAAAAAAQAACgAAAAABAAAEAAAAAAEAAAAAAAAAAQAAAgAAAAABAAAKAAAAAAEAAAQAAAAAAQAAAAAAAAABAAACAAAAAAEAAAoAAAAAAQAABAAAAAABAAAAAAAAAAEAAAIAAAAAAQAACgAAAAABAAAEAAAAAAEAAAAAAAAAAQAAAgAAAAABAAAKAAAAAAEAAAQAAAAAAQAAAAAAAAABAAACAAAAAAEAAAoAAAAAAQAABAAAAAABAAAAAAAAAAEAAAIAAAAAAQAACgAAAAABAAAEAAAAAAEAAAAAAAAAAQAAAgAAAAABAAAKAAAAAAEAAAQAAAAAAQAAAAAAAAABAAACAAAAAAEAAAoAAAAAAQAABAAAAAABAAAAAAAAAAEAAAIAAAAAAQAACgAAAAABAAAEAAAAAAEAAAAAAAAAAQAAAgAAAAABAAAKAAAAAAEAAAQAAAAAAQAAAAAAAAABAAACAAAAAAEAAAoAAAAAAQAABAAAAAABAAAAAAAAAAEAAAIAAAAAAQAACgAAAAABAAAEAAAAAAEAAAAAAAAAAQAAAgAAAAABAAAKAAAAAAEAAAQAAAAAAQAAAAAAAAABAAACAAAAAAEAAAoAAAAAAQAABAAAAAABAAAAAAAAAAEAAAIAAAAAAQAACgAAAAABAAAEAAAAAAEAAAAAAAAAAQAAAgAAAAABAAAKAAAAAAEAAAQAAAAAAQAAAAAAAAABAAACAAAAAAEAAAoAAAAAAQAABAAAAAABAAAAAAAAAAEAAAIAAAAAAQAACgAAAAABAAAEAAAAAAEAAAAAAAAAAQAAAgAAAAABAAAKAAAAAAEAAAQAAAAAAQAAAAAAAAABAAACAAAAAAEAAAoAAAAAAQAABAAAAAABAAAAAAAAAAEAAAIAAAAAAQAACgAAAAABAAAEAAAAAAEAAAAAAAAAAQAAAgAAAAABAAAKAAAAAAEAAAQAAAAAAQAAAAAAAAABAAACAAAAAAEAAAoAAAAAAQAABAAAAAABAAAAAAAAAAEAAAIAAAAAAQAACgAAAAABAAAEAAAAAAEAAAAAAAAAAQAAAgAAAAABAAAKAAAAAAEAAAQAAAAAAQAAAAAAAAABAAACAAAAAAEAAAoAAAAAAQAABAAAAAABAAAAAAAAAAEAAAIAAAAAHHN0c2MAAAAAAAAAAQAAAAEAAADKAAAAAQAAAzxzdHN6AAAAAAAAAAAAAADKAAAFrwAAACYAAAARAAAADgAAABEAAAAXAAAAEAAAAA4AAAAOAAAAHgAAABMAAAARAAAADgAAABcAAAAQAAAADgAAAA4AAAAXAAAAEAAAAA4AAAAOAAAAFwAAABAAAAAOAAAADgAAABcAAAAQAAAADgAAAA4AAAAXAAAAEAAAAA4AAAAOAAAAFwAAABAAAAAOAAAADgAAABcAAAAQAAAADgAAAA4AAAAeAAAAEwAAAA4AAAARAAAAHgAAABMAAAAOAAAAEQAAABcAAAAQAAAADgAAAA4AAAAXAAAAEAAAAA4AAAAUAAAAHwAAABEAAAAaAAAAFQAAABEAAAARAAAAHgAAABMAAAARAAAADgAAAB4AAAATAAAAEQAAAA4AAAAXAAAAEAAAAA4AAAAOAAAAIQAAABYAAAARAAAAEQAAABcAAAAQAAAADgAAAA4AAAAeAAAAEwAAABEAAAAlAAAAFgAAABEAAAASAAAAHAAAABEAAAAdAAAAEQAAAB8AAAAXAAAAEgAAABEAAAAXAAAAEAAAAA4AAAAOAAAAHgAAABMAAAARAAAADgAAAB4AAAATAAAADgAAABEAAAAtAAAAFwAAABQAAAARAAAAHgAAABMAAAARAAAADgAAAB4AAAATAAAAEQAAAA4AAAAeAAAAEwAAAA4AAAARAAAAHgAAABMAAAARAAAADgAAAB4AAAATAAAADgAAABEAAAAeAAAAEwAAAA4AAAARAAAAFwAAABAAAAAOAAAADgAAABcAAAAQAAAADgAAAA4AAAAeAAAAEwAAABEAAAAOAAAAHgAAABMAAAARAAAADgAAACIAAAAWAAAAEQAAABEAAAAdAAAAEwAAAA4AAAARAAAAHAAAABMAAAAOAAAAEQAAACIAAAAWAAAAEQAAABEAAAAXAAAAEAAAABQAAAAOAAAAFwAAABAAAAAOAAAADgAAABcAAAAQAAAADgAAAA4AAAAXAAAAEAAAAA4AAAAOAAAAHgAAABMAAAAOAAAAEQAAAB4AAAATAAAADgAAABEAAAAWAAAAEAAAAA4AAAAOAAAAHgAAACcAAAAOAAAAKQAAABRzdGNvAAAAAAAAAAEAAAAwAAAAYnVkdGEAAABabWV0YQAAAAAAAAAhaGRscgAAAAAAAAAAbWRpcmFwcGwAAAAAAAAAAAAAAAAtaWxzdAAAACWpdG9vAAAAHWRhdGEAAAABAAAAAExhdmY1OC4yNi4xMDE=\" type=\"video/mp4\" />\n",
       "             </video>"
      ],
      "text/plain": [
       "<IPython.core.display.HTML object>"
      ]
     },
     "execution_count": 25,
     "metadata": {},
     "output_type": "execute_result"
    }
   ],
   "source": [
    "# Evaluation\n",
    "test(agent,env,epochs_test,prefix='cnn_test_explore')\n",
    "HTML(display_videos('cnn_test_explore0.mp4'))"
   ]
  },
  {
   "cell_type": "markdown",
   "metadata": {},
   "source": [
    "***\n",
    "***\n",
    "__BONUS question__ Use the expert DQN from the previous question to generate some winning games. Train a model that mimicks its behavior. Compare the performances."
   ]
  },
  {
   "cell_type": "markdown",
   "metadata": {},
   "source": []
  },
  {
   "cell_type": "markdown",
   "metadata": {},
   "source": [
    "***"
   ]
  }
 ],
 "metadata": {
  "kernelspec": {
   "display_name": "Python 3",
   "language": "python",
   "name": "python3"
  },
  "language_info": {
   "codemirror_mode": {
    "name": "ipython",
    "version": 3
   },
   "file_extension": ".py",
   "mimetype": "text/x-python",
   "name": "python",
   "nbconvert_exporter": "python",
   "pygments_lexer": "ipython3",
   "version": "3.6.4"
  }
 },
 "nbformat": 4,
 "nbformat_minor": 2
}
